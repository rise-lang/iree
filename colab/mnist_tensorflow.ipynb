{
 "cells": [
  {
   "cell_type": "markdown",
   "metadata": {
    "colab_type": "text",
    "id": "PZtRtMMUZHJS"
   },
   "source": [
    "##### Copyright 2020 Google LLC.\n",
    "\n",
    "Licensed under the Apache License, Version 2.0 (the \"License\");"
   ]
  },
  {
   "cell_type": "code",
   "execution_count": 1,
   "metadata": {
    "cellView": "both",
    "colab": {},
    "colab_type": "code",
    "id": "TouZL3JZZSQe"
   },
   "outputs": [],
   "source": [
    "#@title License header\n",
    "# Copyright 2020 Google LLC\n",
    "#\n",
    "# Licensed under the Apache License, Version 2.0 (the \"License\");\n",
    "# you may not use this file except in compliance with the License.\n",
    "# You may obtain a copy of the License at\n",
    "#\n",
    "#      https://www.apache.org/licenses/LICENSE-2.0\n",
    "#\n",
    "# Unless required by applicable law or agreed to in writing, software\n",
    "# distributed under the License is distributed on an \"AS IS\" BASIS,\n",
    "# WITHOUT WARRANTIES OR CONDITIONS OF ANY KIND, either express or implied.\n",
    "# See the License for the specific language governing permissions and\n",
    "# limitations under the License."
   ]
  },
  {
   "cell_type": "markdown",
   "metadata": {
    "colab_type": "text",
    "id": "O6c3qfq5Zv57"
   },
   "source": [
    "# MNIST Model TensorFlow Training, IREE Execution\n",
    "\n",
    "## Overview\n",
    "\n",
    "This notebook creates and trains a TensorFlow 2.0 model for recognizing handwritten digits using the [MNIST dataset](https://en.wikipedia.org/wiki/MNIST_database), then compiles and executes that trained model using IREE.\n",
    "\n",
    "## Running Locally\n",
    "\n",
    "*  Refer to [iree/docs/using_colab.md](https://github.com/google/iree/blob/main/docs/using_colab.md) for general information\n",
    "*  Ensure that you have a recent version of TensorFlow 2.0 [installed on your system](https://www.tensorflow.org/install)\n",
    "*  Enable IREE/TF integration by adding to your user.bazelrc: `build --define=iree_tensorflow=true`\n",
    "*  Start colab by running `python colab/start_colab_kernel.py` (see that file for additional instructions)\n",
    "*  Note: you may need to restart your runtime in order to re-run certain cells. Some of the APIs are not yet stable enough for repeated invocations"
   ]
  },
  {
   "cell_type": "markdown",
   "metadata": {
    "colab_type": "text",
    "id": "wBXlE69Ia2QU"
   },
   "source": [
    "# Setup Steps"
   ]
  },
  {
   "cell_type": "code",
   "execution_count": 2,
   "metadata": {
    "colab": {
     "base_uri": "https://localhost:8080/",
     "height": 51
    },
    "colab_type": "code",
    "id": "EPF7RGQDYK-M",
    "outputId": "fe0d703a-2ad7-4d14-9aef-c69b4c342a16"
   },
   "outputs": [
    {
     "name": "stdout",
     "output_type": "stream",
     "text": [
      "TensorFlow version:  2.4.0\n",
      "Numpy version:  1.18.5\n"
     ]
    }
   ],
   "source": [
    "import os\n",
    "import numpy as np\n",
    "import tensorflow as tf\n",
    "from matplotlib import pyplot as plt\n",
    "from pyiree.tf import compiler as ireec\n",
    "from pyiree import rt as ireert\n",
    "from timeit import default_timer as timer\n",
    "\n",
    "tf.compat.v1.enable_eager_execution()\n",
    "\n",
    "SAVE_PATH = os.path.join(os.environ[\"HOME\"], \"saved_models\")\n",
    "os.makedirs(SAVE_PATH, exist_ok=True)\n",
    "\n",
    "# Print version information for future notebook users to reference.\n",
    "print(\"TensorFlow version: \", tf.__version__)\n",
    "print(\"Numpy version: \", np.__version__)"
   ]
  },
  {
   "cell_type": "code",
   "execution_count": 3,
   "metadata": {
    "cellView": "form",
    "colab": {
     "base_uri": "https://localhost:8080/",
     "height": 34
    },
    "colab_type": "code",
    "id": "43BH_9YcsGs8",
    "outputId": "46a560cb-5947-4cfa-f71e-9065bf2c07ab"
   },
   "outputs": [
    {
     "name": "stdout",
     "output_type": "stream",
     "text": [
      "Using IREE compiler backend 'llvm-ir' and runtime driver 'llvm'\n"
     ]
    }
   ],
   "source": [
    "#@title Notebook settings { run: \"auto\" }\n",
    "\n",
    "#@markdown -----\n",
    "#@markdown ### Configuration\n",
    "\n",
    "backend_choice = \"GPU (vulkan-spirv)\" #@param [ \"GPU (vulkan-spirv)\", \"CPU (VMLA)\" ]\n",
    "\n",
    "if backend_choice == \"GPU (vulkan-spirv)\":\n",
    "  backend_name = \"vulkan-spirv\"\n",
    "  driver_name = \"vulkan\"\n",
    "else:\n",
    "  backend_name = \"vmla\"\n",
    "  driver_name = \"vmla\"\n",
    "    \n",
    "backend_name = \"llvm-ir\"\n",
    "driver_name = \"llvm\"\n",
    "tf.print(\"Using IREE compiler backend '%s' and runtime driver '%s'\" % (backend_name, driver_name))\n",
    "\n",
    "#@markdown -----\n",
    "#@markdown ### Training Parameters\n",
    "\n",
    "#@markdown <sup>Batch size used to subdivide the training and evaluation samples</sup>\n",
    "batch_size = 200  #@param { type: \"slider\", min: 10, max: 400 }\n",
    "\n",
    "#@markdown <sup>Epochs for training/eval. Higher values take longer to run but generally produce more accurate models</sup>\n",
    "num_epochs = 5    #@param { type: \"slider\", min:  1, max:  20 }\n",
    "\n",
    "#@markdown -----"
   ]
  },
  {
   "cell_type": "markdown",
   "metadata": {
    "colab_type": "text",
    "id": "5vkQOMOMbXdy"
   },
   "source": [
    "# Create and Train MNIST Model in TensorFlow\n",
    "\n",
    "The specific details of the training process here aren't critical to the model compilation and execution through IREE."
   ]
  },
  {
   "cell_type": "code",
   "execution_count": 4,
   "metadata": {
    "cellView": "form",
    "colab": {
     "base_uri": "https://localhost:8080/",
     "height": 486
    },
    "colab_type": "code",
    "id": "GXZIrReTbTHN",
    "outputId": "9c01fab1-f8cb-4a63-fff1-6b82a9b6b49d"
   },
   "outputs": [
    {
     "name": "stdout",
     "output_type": "stream",
     "text": [
      "Loaded MNIST dataset!\n",
      "INFO:tensorflow:ParameterServerStrategy (CentralStorageStrategy if you are using a single machine) with compute_devices = ['/job:localhost/replica:0/task:0/device:CPU:0'], variable_device = '/job:localhost/replica:0/task:0/device:CPU:0'\n",
      "Configured data for training and evaluation!\n",
      "  sample shape: (28, 28, 1)\n",
      "  training samples: 60000\n",
      "  test     samples: 10000\n",
      "  epochs: 5\n",
      "  steps/epoch: 300\n",
      "  steps/eval : 50\n",
      "\n",
      "Sample image from the dataset:\n"
     ]
    },
    {
     "data": {
      "image/png": "[encoded data removed]",
      "text/plain": [
       "<Figure size 432x288 with 1 Axes>"
      ]
     },
     "metadata": {
      "needs_background": "light"
     },
     "output_type": "display_data"
    },
    {
     "name": "stdout",
     "output_type": "stream",
     "text": [
      "\n",
      "Ground truth labels: [0. 0. 1. 0. 0. 0. 0. 0. 0. 0.]\n"
     ]
    }
   ],
   "source": [
    "#@title Load MNIST dataset, setup training and evaluation\n",
    "\n",
    "NUM_CLASSES = 10  # One per digit [0, 1, 2, ..., 9]\n",
    "IMG_ROWS, IMG_COLS = 28, 28\n",
    "\n",
    "(x_train, y_train), (x_test, y_test) = tf.keras.datasets.mnist.load_data()\n",
    "tf.print(\"Loaded MNIST dataset!\")\n",
    "\n",
    "x_train = x_train.reshape(x_train.shape[0], IMG_ROWS, IMG_COLS, 1)\n",
    "x_test = x_test.reshape(x_test.shape[0], IMG_ROWS, IMG_COLS, 1)\n",
    "input_shape = (IMG_ROWS, IMG_COLS, 1)\n",
    "\n",
    "# Scale pixel values from [0, 255] integers to [0.0, 1.0] floats.\n",
    "x_train = x_train.astype(\"float32\") / 255\n",
    "x_test = x_test.astype(\"float32\") / 255\n",
    "\n",
    "steps_per_epoch = int(x_train.shape[0] / batch_size)\n",
    "steps_per_eval = int(x_test.shape[0] / batch_size)\n",
    "\n",
    "# Convert class vectors to binary class matrices.\n",
    "y_train = tf.keras.utils.to_categorical(y_train, NUM_CLASSES)\n",
    "y_test = tf.keras.utils.to_categorical(y_test, NUM_CLASSES)\n",
    "\n",
    "# Construct batched datasets for training/evaluation.\n",
    "train_dataset = tf.data.Dataset.from_tensor_slices((x_train, y_train))\n",
    "train_dataset = train_dataset.batch(batch_size, drop_remainder=True)\n",
    "test_dataset = tf.data.Dataset.from_tensor_slices((x_test, y_test))\n",
    "test_dataset = test_dataset.batch(batch_size, drop_remainder=True)\n",
    "\n",
    "# Create a distribution strategy for the dataset (single machine).\n",
    "strategy = tf.distribute.experimental.CentralStorageStrategy()\n",
    "train_dist_ds = strategy.experimental_distribute_dataset(train_dataset)\n",
    "test_dist_ds = strategy.experimental_distribute_dataset(test_dataset)\n",
    "\n",
    "tf.print(\"Configured data for training and evaluation!\")\n",
    "tf.print(\"  sample shape: %s\" % str(x_train[0].shape))\n",
    "tf.print(\"  training samples: %s\" % x_train.shape[0])\n",
    "tf.print(\"  test     samples: %s\" % x_test.shape[0])\n",
    "tf.print(\"  epochs: %s\" % num_epochs)\n",
    "tf.print(\"  steps/epoch: %s\" % steps_per_epoch)\n",
    "tf.print(\"  steps/eval : %s\" % steps_per_eval)\n",
    "\n",
    "tf.print(\"\")\n",
    "tf.print(\"Sample image from the dataset:\")\n",
    "SAMPLE_EXAMPLE_INDEX = 1\n",
    "sample_image = x_test[SAMPLE_EXAMPLE_INDEX]\n",
    "sample_image_batch = np.expand_dims(sample_image, axis=0)\n",
    "sample_label = y_test[SAMPLE_EXAMPLE_INDEX]\n",
    "plt.imshow(sample_image.reshape(IMG_ROWS, IMG_COLS))\n",
    "plt.show()\n",
    "tf.print(\"\\nGround truth labels: %s\" % str(sample_label))"
   ]
  },
  {
   "cell_type": "code",
   "execution_count": 5,
   "metadata": {
    "cellView": "both",
    "colab": {},
    "colab_type": "code",
    "id": "tHq96SIJcNfx"
   },
   "outputs": [],
   "source": [
    "#@title Define MNIST model architecture using tf.keras API\n",
    "\n",
    "def simple_mnist_model(input_shape):\n",
    "  \"\"\"Creates a simple (multi-layer perceptron) MNIST model.\"\"\"\n",
    "\n",
    "  model = tf.keras.models.Sequential()\n",
    "  # Flatten to a 1d array (e.g. 28x28 -> 784)\n",
    "  model.add(tf.keras.layers.Flatten(input_shape=input_shape))\n",
    "  # Fully-connected neural layer with 128 neurons, RELU activation\n",
    "  model.add(tf.keras.layers.Dense(128, activation='relu'))\n",
    "  # Fully-connected neural layer returning probability scores for each class\n",
    "  model.add(tf.keras.layers.Dense(10, activation='softmax'))\n",
    "  return model"
   ]
  },
  {
   "cell_type": "code",
   "execution_count": 6,
   "metadata": {
    "cellView": "form",
    "colab": {
     "base_uri": "https://localhost:8080/",
     "height": 374
    },
    "colab_type": "code",
    "id": "7Gdxh7qWcPSO",
    "outputId": "50b0aede-9a8f-4ce5-b340-783be5fbfc06"
   },
   "outputs": [
    {
     "name": "stdout",
     "output_type": "stream",
     "text": [
      "Constructed Keras MNIST model, training...\n",
      "Running epoch #1\n",
      "  Training loss: 0.714215, accuracy: 82.248337\n",
      "  Test loss    : 0.384292, accuracy: 89.700005\n",
      "Running epoch #2\n",
      "  Training loss: 0.357277, accuracy: 90.169998\n",
      "  Test loss    : 0.311258, accuracy: 91.189995\n",
      "Running epoch #3\n",
      "  Training loss: 0.304837, accuracy: 91.430000\n",
      "  Test loss    : 0.277507, accuracy: 92.229996\n",
      "Running epoch #4\n",
      "  Training loss: 0.274088, accuracy: 92.321663\n",
      "  Test loss    : 0.254376, accuracy: 92.889999\n",
      "Running epoch #5\n",
      "  Training loss: 0.251242, accuracy: 93.011665\n",
      "  Test loss    : 0.236378, accuracy: 93.449997\n",
      "Completed training!\n",
      "\n",
      "Sample prediction:\n",
      "[0.32002911 0.00987642817 96.3758163 0.783054352 8.94123332e-06 1.37883496 0.689263 1.17755353e-05 0.443088 1.05948748e-05]\n",
      "\n"
     ]
    }
   ],
   "source": [
    "#@title Train the Keras model\n",
    "\n",
    "with strategy.scope():\n",
    "  model = simple_mnist_model(input_shape)\n",
    "  tf.print(\"Constructed Keras MNIST model, training...\")\n",
    "\n",
    "  optimizer = tf.keras.optimizers.SGD(learning_rate=0.05)\n",
    "  training_loss = tf.keras.metrics.Mean(\"training_loss\", dtype=tf.float32)\n",
    "  training_accuracy = tf.keras.metrics.CategoricalAccuracy(\n",
    "      \"training_accuracy\", dtype=tf.float32)\n",
    "  test_loss = tf.keras.metrics.Mean(\"test_loss\", dtype=tf.float32)\n",
    "  test_accuracy = tf.keras.metrics.CategoricalAccuracy(\n",
    "      \"test_accuracy\", dtype=tf.float32)\n",
    "\n",
    "  @tf.function\n",
    "  def train_step(iterator):\n",
    "    \"\"\"Training StepFn.\"\"\"\n",
    "\n",
    "    def step_fn(inputs):\n",
    "      \"\"\"Per-Replica StepFn.\"\"\"\n",
    "      images, labels = inputs\n",
    "      with tf.GradientTape() as tape:\n",
    "        logits = model(images, training=True)\n",
    "        loss = tf.keras.losses.categorical_crossentropy(labels, logits)\n",
    "        loss = tf.reduce_mean(loss) / strategy.num_replicas_in_sync\n",
    "      grads = tape.gradient(loss, model.trainable_variables)\n",
    "      optimizer.apply_gradients(zip(grads, model.trainable_variables))\n",
    "      training_loss.update_state(loss)\n",
    "      training_accuracy.update_state(labels, logits)\n",
    "\n",
    "    strategy.run(step_fn, args=(next(iterator),))\n",
    "\n",
    "  @tf.function\n",
    "  def test_step(iterator):\n",
    "    \"\"\"Evaluation StepFn.\"\"\"\n",
    "\n",
    "    def step_fn(inputs):\n",
    "      images, labels = inputs\n",
    "      logits = model(images, training=False)\n",
    "      loss = tf.keras.losses.categorical_crossentropy(labels, logits)\n",
    "      loss = tf.reduce_mean(loss) / strategy.num_replicas_in_sync\n",
    "      test_loss.update_state(loss)\n",
    "      test_accuracy.update_state(labels, logits)\n",
    "\n",
    "    strategy.run(step_fn, args=(next(iterator),))\n",
    "\n",
    "  for epoch in range(0, num_epochs):\n",
    "    tf.print(\"Running epoch #%s\" % (epoch + 1))\n",
    "\n",
    "    train_iterator = iter(train_dist_ds)\n",
    "    for step in range(steps_per_epoch):\n",
    "      train_step(train_iterator)\n",
    "    tf.print(\"  Training loss: %f, accuracy: %f\" % (training_loss.result(), training_accuracy.result() * 100))\n",
    "    training_loss.reset_states()\n",
    "    training_accuracy.reset_states()\n",
    "\n",
    "    test_iterator = iter(test_dist_ds)\n",
    "    for step in range(steps_per_eval):\n",
    "      test_step(test_iterator)\n",
    "    tf.print(\"  Test loss    : %f, accuracy: %f\" % (test_loss.result(), test_accuracy.result() * 100))\n",
    "    test_loss.reset_states()\n",
    "    test_accuracy.reset_states()\n",
    "\n",
    "  tf.print(\"Completed training!\")\n",
    "  tf.print(\"\")\n",
    "\n",
    "  # Run a single prediction on the trained model\n",
    "  tf_prediction = model(sample_image_batch, training=False)\n",
    "  tf.print(\"Sample prediction:\")\n",
    "  tf.print(tf_prediction[0] * 100.0, summarize=100)\n",
    "  tf.print(\"\")"
   ]
  },
  {
   "cell_type": "code",
   "execution_count": 7,
   "metadata": {
    "colab": {
     "base_uri": "https://localhost:8080/",
     "height": 153
    },
    "colab_type": "code",
    "id": "DmespEaFcSEL",
    "outputId": "3c8579db-7b3c-4164-ff91-394346595107"
   },
   "outputs": [
    {
     "name": "stdout",
     "output_type": "stream",
     "text": [
      "Exporting SavedModel to /tmp/mnist.sm\n",
      "WARNING:tensorflow:From /home/martin/.local/lib/python3.8/site-packages/tensorflow/python/training/tracking/tracking.py:111: Model.state_updates (from tensorflow.python.keras.engine.training) is deprecated and will be removed in a future version.\n",
      "Instructions for updating:\n",
      "This property should not be used in TensorFlow 2.0, as updates are applied automatically.\n",
      "WARNING:tensorflow:From /home/martin/.local/lib/python3.8/site-packages/tensorflow/python/training/tracking/tracking.py:111: Layer.updates (from tensorflow.python.keras.engine.base_layer) is deprecated and will be removed in a future version.\n",
      "Instructions for updating:\n",
      "This property should not be used in TensorFlow 2.0, as updates are applied automatically.\n",
      "INFO:tensorflow:Assets written to: /tmp/mnist.sm/assets\n"
     ]
    }
   ],
   "source": [
    "#@title Export the trained model as a SavedModel, with IREE-compatible settings\n",
    "\n",
    "# Since the model was written in sequential style, explicitly wrap in a module.\n",
    "saved_model_dir = \"/tmp/mnist.sm\"\n",
    "inference_module = tf.Module()\n",
    "inference_module.model = model\n",
    "# Hack: Convert to static shape. Won't be necessary once dynamic shapes are in.\n",
    "dynamic_input_shape = list(model.inputs[0].shape)\n",
    "dynamic_input_shape[0] = 1  # Make fixed (batch=1)\n",
    "# Produce a concrete function.\n",
    "inference_module.predict = tf.function(\n",
    "    input_signature=[\n",
    "        tf.TensorSpec(dynamic_input_shape, model.inputs[0].dtype)])(\n",
    "            lambda x: model.call(x, training=False))\n",
    "save_options = tf.saved_model.SaveOptions(save_debug_info=True)\n",
    "tf.print(\"Exporting SavedModel to %s\" % saved_model_dir)\n",
    "tf.saved_model.save(inference_module, saved_model_dir, options=save_options)"
   ]
  },
  {
   "cell_type": "markdown",
   "metadata": {
    "colab_type": "text",
    "id": "nZdVUd_dgTtc"
   },
   "source": [
    "# Compile and Execute MNIST Model using IREE"
   ]
  },
  {
   "cell_type": "code",
   "execution_count": 8,
   "metadata": {
    "colab": {
     "base_uri": "https://localhost:8080/",
     "height": 836
    },
    "colab_type": "code",
    "id": "rqwIx4j4gS1a",
    "outputId": "24cded90-c436-47ce-b4f4-7a5da46ea38a"
   },
   "outputs": [
    {
     "name": "stdout",
     "output_type": "stream",
     "text": [
      "Imported MLIR:\n",
      " \n",
      "\n",
      "module attributes {tf.versions = {bad_consumers = [], min_consumer = 12 : i32, producer = 472 : i32}} {\n",
      "  flow.variable @\"__iree_flow___sm_node14__model.layer-1.kernel\" opaque<\"\", \"0xDEADBEEF\"> : tensor<784x128xf32> attributes {sym_visibility = \"private\"}\n",
      "  flow.variable @\"__iree_flow___sm_node15__model.layer-1.bias\" opaque<\"\", \"0xDEADBEEF\"> : tensor<128xf32> attributes {sym_visibility = \"private\"}\n",
      "  flow.variable @\"__iree_flow___sm_node20__model.layer-2.kernel\" opaque<\"\", \"0xDEADBEEF\"> : tensor<128x10xf32> attributes {sym_visibility = \"private\"}\n",
      "  flow.variable @\"__iree_flow___sm_node21__model.layer-2.bias\" dense<[-0.0792120546, 0.126772404, 0.0215074643, -0.127608702, 0.0332908742, 0.208333746, -0.025720505, 0.0538506433, -0.16790472, -0.0433090627]> : tensor<10xf32> attributes {sym_visibility = \"private\"}\n",
      "  func @predict(%arg0: tensor<1x28x28x1xf32> {tf._user_specified_name = \"x\"}) -> tensor<1x10xf32> attributes {iree.module.export, iree.reflection = {abi = \"sip\", abiv = 1 : i32, sip = \"I8!S5!k0_0R3!_0\"}, tf._input_shapes = [#tf.shape<1x28x28x1>, #tf.shape<*>, #tf.shape<*>, #tf.shape<*>, #tf.shape<*>], tf.signature.is_stateful} {\n",
      "    %0 = flow.variable.address @\"__iree_flow___sm_node14__model.layer-1.kernel\" : !iree.ptr<tensor<784x128xf32>>\n",
      "    %1 = flow.variable.address @\"__iree_flow___sm_node15__model.layer-1.bias\" : !iree.ptr<tensor<128xf32>>\n",
      "    %2 = flow.variable.address @\"__iree_flow___sm_node20__model.layer-2.kernel\" : !iree.ptr<tensor<128x10xf32>>\n",
      "    %3 = flow.variable.address @\"__iree_flow___sm_node21__model.layer-2.bias\" : !iree.ptr<tensor<10xf32>>\n",
      "    %4 = mhlo.constant opaque<\"\", \"0xDEADBEEF\"> : tensor<1x128xf32>\n",
      "    %5 = mhlo.constant dense<0xFF800000> : tensor<f32>\n",
      "    %6 = mhlo.constant dense<0.000000e+00> : tensor<f32>\n",
      "    %7 = flow.variable.load.indirect %3 : !iree.ptr<tensor<10xf32>> -> tensor<10xf32>\n",
      "    %8 = flow.variable.load.indirect %2 : !iree.ptr<tensor<128x10xf32>> -> tensor<128x10xf32>\n",
      "    %9 = flow.variable.load.indirect %1 : !iree.ptr<tensor<128xf32>> -> tensor<128xf32>\n",
      "    %10 = flow.variable.load.indirect %0 : !iree.ptr<tensor<784x128xf32>> -> tensor<784x128xf32>\n",
      "    %11 = \"mhlo.reshape\"(%arg0) : (tensor<1x28x28x1xf32>) -> tensor<1x784xf32>\n",
      "    %12 = \"mhlo.dot\"(%11, %10) : (tensor<1x784xf32>, tensor<784x128xf32>) -> tensor<1x128xf32>\n",
      "    %13 = \"mhlo.broadcast_in_dim\"(%9) {broadcast_dimensions = dense<1> : tensor<1xi64>} : (tensor<128xf32>) -> tensor<1x128xf32>\n",
      "    %14 = mhlo.add %12, %13 : tensor<1x128xf32>\n",
      "    %15 = mhlo.maximum %14, %4 : tensor<1x128xf32>\n",
      "    %16 = \"mhlo.dot\"(%15, %8) : (tensor<1x128xf32>, tensor<128x10xf32>) -> tensor<1x10xf32>\n",
      "    %17 = \"mhlo.broadcast_in_dim\"(%7) {broadcast_dimensions = dense<1> : tensor<1xi64>} : (tensor<10xf32>) -> tensor<1x10xf32>\n",
      "    %18 = mhlo.add %16, %17 : tensor<1x10xf32>\n",
      "    %19 = \"mhlo.reduce\"(%18, %5) ( {\n",
      "    ^bb0(%arg1: tensor<f32>, %arg2: tensor<f32>):  // no predecessors\n",
      "      %26 = mhlo.maximum %arg1, %arg2 : tensor<f32>\n",
      "      \"mhlo.return\"(%26) : (tensor<f32>) -> ()\n",
      "    }) {dimensions = dense<1> : tensor<1xi64>} : (tensor<1x10xf32>, tensor<f32>) -> tensor<1xf32>\n",
      "    %20 = \"mhlo.broadcast_in_dim\"(%19) {broadcast_dimensions = dense<0> : tensor<1xi64>} : (tensor<1xf32>) -> tensor<1x10xf32>\n",
      "    %21 = mhlo.subtract %18, %20 : tensor<1x10xf32>\n",
      "    %22 = \"mhlo.exponential\"(%21) : (tensor<1x10xf32>) -> tensor<1x10xf32>\n",
      "    %23 = \"mhlo.reduce\"(%22, %6) ( {\n",
      "    ^bb0(%arg1: tensor<f32>, %arg2: tensor<f32>):  // no predecessors\n",
      "      %26 = mhlo.add %arg1, %arg2 : tensor<f32>\n",
      "      \"mhlo.return\"(%26) : (tensor<f32>) -> ()\n",
      "    }) {dimensions = dense<1> : tensor<1xi64>} : (tensor<1x10xf32>, tensor<f32>) -> tensor<1xf32>\n",
      "    %24 = \"mhlo.broadcast_in_dim\"(%23) {broadcast_dimensions = dense<0> : tensor<1xi64>} : (tensor<1xf32>) -> tensor<1x10xf32>\n",
      "    %25 = mhlo.divide %22, %24 : tensor<1x10xf32>\n",
      "    return %25 : tensor<1x10xf32>\n",
      "  }\n",
      "}\n",
      "Wrote MLIR to path '/home/martin/saved_models/mnist.mlir'\n"
     ]
    }
   ],
   "source": [
    "#@title Load the SavedModel into IREE's compiler as MLIR mhlo\n",
    "\n",
    "compiler_module = ireec.tf_load_saved_model(\n",
    "    saved_model_dir, exported_names=[\"predict\"])\n",
    "tf.print(\"Imported MLIR:\\n\", compiler_module.to_asm(large_element_limit=100))\n",
    "\n",
    "# Write to a file for use outside of this notebook.\n",
    "mnist_mlir_path = os.path.join(SAVE_PATH, \"mnist.mlir\")\n",
    "with open(mnist_mlir_path, \"wt\") as output_file:\n",
    "  output_file.write(compiler_module.to_asm())\n",
    "print(\"Wrote MLIR to path '%s'\" % mnist_mlir_path)"
   ]
  },
  {
   "cell_type": "code",
   "execution_count": 9,
   "metadata": {
    "colab": {
     "base_uri": "https://localhost:8080/",
     "height": 51
    },
    "colab_type": "code",
    "id": "IDHI7h3khJr9",
    "outputId": "b8958b7f-c7bb-4fbd-b800-e58c46134086"
   },
   "outputs": [
    {
     "name": "stderr",
     "output_type": "stream",
     "text": [
      "Created IREE driver llvm: <pyiree.rt.binding.HalDriver object at 0x7f42cc33ffb0>\n",
      "SystemContext driver=<pyiree.rt.binding.HalDriver object at 0x7f42cc33ffb0>\n"
     ]
    }
   ],
   "source": [
    "#@title Compile the mhlo MLIR and prepare a context to execute it\n",
    "\n",
    "# Compile the MLIR module into a VM module for execution\n",
    "flatbuffer_blob = compiler_module.compile(target_backends=[backend_name])\n",
    "vm_module = ireert.VmModule.from_flatbuffer(flatbuffer_blob)\n",
    "\n",
    "# Register the module with a runtime context\n",
    "config = ireert.Config(driver_name)\n",
    "ctx = ireert.SystemContext(config=config)\n",
    "ctx.add_module(vm_module)"
   ]
  },
  {
   "cell_type": "code",
   "execution_count": 10,
   "metadata": {
    "colab": {
     "base_uri": "https://localhost:8080/",
     "height": 102
    },
    "colab_type": "code",
    "id": "SKflpnLtkLYE",
    "outputId": "337ddf79-6746-4685-89f5-65787280c0af"
   },
   "outputs": [
    {
     "name": "stdout",
     "output_type": "stream",
     "text": [
      "tf times:\n"
     ]
    },
    {
     "name": "stdout",
     "output_type": "stream",
     "text": [
      "0.007627527000295231,0.0008880059995135525,0.000734970000848989,0.0006806820001656888,0.0006462670007749693,0.0006417519998649368,0.0006215890007297276,0.0005128530001456966,0.0006260600002860883,0.0007142270005715545,0.0006804069998906925,0.0006320410002444987,0.0006583859994861996,0.0006224869994184701,0.0006818459996793536,0.0009731899999678717,0.0007082560005073901,0.0005438739999590325,0.0006366159996105125,0.0006013720003466005,0.0005907149998165551,0.0005932040003244765,0.004197635999844351,0.0014575489994967938,0.0011398380001992336,0.002588217000266013,0.0008676010002091061,0.0007731120003882097,0.0006246969996936969,0.0006089789994803141,0.0005770690004283097,0.000517477999892435,0.0005252219998510554,0.0006163429998196079,0.0005637790000037057,0.0006033190002199262,0.0005924570004935958,0.0005567480002355296,0.000553130999833229,0.0005504370001290226,0.0005561919997489895,0.000550082999325241,0.0005889479998586467,0.0005523310001080972,0.0005532109998966916,0.0005526390004888526,0.0005523419995370205,0.0005767559996456839,0.000553884000510152,0.0005654110000250512,0.0005697649994544918,0.00058484400051384,0.0006363180000334978,0.004031563000353344,0.0006048690001989598,0.0004994259998056805,0.0006049789999451605,0.0004825569994864054,0.0005001740000807331,0.00047653000001446344,0.0005119979996379698,0.0008938969995142543,0.0005520169997907942,0.0004580869999699644,0.000444479999714531,0.00044498299939732533,0.00043721699967136374,0.0004883379997409065,0.00043395099964982364,0.00043039499996666564,0.0004309570003897534,0.0004443079997145105,0.000485869999465649,0.000541680000424094,0.00044838099984190194,0.0004415240000525955,0.0005318359999364475,0.0004815069996766397,0.00046439200013992377,0.0006655090001004282,0.002315544000339287,0.0007421620002787677,0.000642137999420811,0.0006238909991225228,0.0006615100000999519,0.0005548140006794711,0.00045738100016023964,0.00044363599954522215,0.00045053200028633,0.00044029499986208975,0.00046481899971695384,0.00044427800003177254,0.0004372019993752474,0.00044270800026424695,0.00043224100045335945,0.0004322599997976795,0.0004317210004955996,0.000429503000304976,0.00048034300016297493,0.00044680300015897956,0.0004339050001362921,0.0006072549995224108,0.0006279600002017105,0.0006094849995861296,0.0006281610003497917,0.0005905120005991193,0.0005570590001298115,0.0005373380008677486,0.0004812380002476857,0.0013767110003755079,0.0006381470002452261,0.0004517479992500739,0.0004422410002007382,0.0006680030001007253,0.0004368030004116008,0.0005302270001266152,0.0004523350007730187,0.0004423059999680845,0.0004363629996078089,0.0004997070000172243,0.00043489500058058184,0.00043662999996740837,0.00042933199983963277,0.0004252299995641806,0.00042287999986001523,0.0004244349993314245,0.0004292519997761701,0.00046618099986517336,0.0004352469995865249,0.0004490569999688887,0.0005557239992413088,0.0005981600006634835,0.0005690360003427486,0.0005721890001950669,0.0006612520000999211,0.0005187209999348852,0.00046915900020394474,0.00047068500043678796,0.0009058320001713582,0.0005835899992234772,0.0004674479996538139,0.0004935980005029705,0.0004438760006451048,0.00043417999950179365,0.0004348250004113652,0.0007662070001970278,0.0004492489997574012,0.000438025000221387,0.0005458010000438662,0.0006079629993109847,0.0005641960005959845,0.0005647380003210856,0.0005693459997928585,0.0005644640004902612,0.0005813399993712665,0.0005656490002365899,0.0005550619998757611,0.0005481830003191135,0.0005662739995386801,0.0005604179996225866,0.0006030110007486655,0.0005738829995607375,0.000587857000027725,0.0005442080000648275,0.0007043089999569929,0.0021632050002153846,0.0007151219997467706,0.0005858670001543942,0.0005683939998561982,0.0005649380000249948,0.0005624839996016817,0.0005728539999836357,0.0005642410005748388,0.00055495900051028,0.0005826130000059493,0.0005517070003406843,0.0005502309995790711,0.0005856300003870274,0.0006586499994227779,0.0006714380006087595,0.00047253499997168547,0.0004376580000098329,0.0004417199997988064,0.00048804900052346056,0.0004437610004970338,0.0006018539997967309,0.00068558499970095,0.0006821599999966566,0.0007281919997694786,0.0006076580002627452,0.0005288680004014168,0.0005314970003382768,0.0005165560005480074,0.000540844000170182,0.0005168440002307761,0.0005130469999130582,0.0010324880004191073,0.0006166339999253978,0.0006147759995656088,0.0006725439998263028,0.0006016010001985705,0.0005936910001764772,0.0006008439995639492,0.0006317170000329497,0.0006129509993115789,0.0005625369994959328,0.0005669649999617832,0.0005666109991580015,0.000493808999635803,0.0005873330001122667,0.0005286559999149176,0.0006147040003270376,0.0005914290004511713,0.0005098490000818856,0.0005712889997084858,0.0005058509996160865,0.0007912110004326678,0.0005762810005762731,0.0029427069994198973,0.0010778590003610589,0.000694037000357639,0.0005832320002809865,0.0005754799994974746,0.0005673990008290275,0.0005505000008270144,0.0006017260002408875,0.0005542190001506242,0.0005481750004037167,0.0007050030008031172,0.0005554800000027171,0.0005380450002121506,0.0005548819999603438,0.000550880000446341,0.003012691000549239,0.0009690009992482373,0.0007525820001319516,0.0007605239998156321,0.0006865429995741579,0.0004974639996362384,0.00045304499963094713,0.00044057499962946167,0.0007252710001921514,0.000494249000439595,0.0005524469997908454,0.0005067369993412285,0.0004312780001782812,0.00046428599944192683,0.0005122789998495136,0.0004399819999889587,0.00047432399969693506,0.00043652400017890614,0.00043497000024217414,0.00042745700011437293,0.00042455800030438695,0.0004248590003044228,0.0005251940001471667,0.0005939559996477328,0.0005873390000488143,0.0005872129995623254,0.0005688450000889134,0.0005004059994462295,0.0004978469996785861,0.0007564890001958702,0.0004931139992550015,0.0004891560001851758,0.0006895980004628655,0.0005935689996476867,0.0005821579998155357,0.0006135350004115026,0.0005922569998801919,0.0005841749998580781,0.0006382789997587679,0.0006641899999522138,0.0006162999998196028,0.0006047380002200953,0.0005597989993475494,0.0005394170002546161,0.0005917029993725009,0.0005945049997535534,0.0005916549998801202,0.0005849509998370195,0.0006175690004965873,0.0006007590000081109,0.0004895729998679599,0.0005820200003654463,0.0006220069999471889,0.0005933190004725475,0.0006314990005193977,0.0005226240000411053,0.0006010799997966387,0.0005998520000503049,0.0009639400004743948,0.002187010999477934,0.0007086659998094547,0.0010252519996356568,0.0005968859995846287,0.0008031150000533671,0.0005479290002767812,0.0004066539995619678,0.00038915299955988303,0.0006491029998869635,0.0004857579997405992,0.0005156980005267542,0.0005886099997951533,0.0005809490003230167,0.0005644100001518382,0.0005588160001934739,0.0005595829998128465,0.0005002399993827567,0.0004998470003556577,0.0005148239997652126,0.0005416499998318614,0.0005321389999153325,0.0015614889998687431,0.001175101000626455,0.0008496000000377535,0.0006760960004612571,0.000732569000319927,0.0006812340006945306,0.0006406940001397743,0.0007238870002765907,0.0006615760003114701,0.0006374939994202578,0.0005769549998149159,0.0006080210005166009,0.000596838000092248,0.0006188270008351537,0.000732503999643086,0.0006088549998821691,0.0008457730000372976,0.0006769920000806451,0.0006143160007923143,0.0006253460005609668,0.0005845209998369683,0.0006027899999025976,0.0006971540005906718,0.0005777679998573149,0.0005486850004672306,0.0005460369993670611,0.0005446200002552359,0.0005716770001527038,0.0005993139993734076,0.0005978859999231645,0.000585456999942835,0.0005663090005327831,0.0006045840000297176,0.0006155279997983598,0.00045234599929244723,0.0004396579997774097,0.0004331150003054063,0.0004309570003897534,0.0004280849998394842,0.00044141099988337373,0.00042792900057975203,0.0006069549999665469,0.0005421649993877509,0.0005148909995114082,0.0005802650002806331,0.0007002910006121965,0.0005089489995953045,0.00048793699988891603,0.00091284900008759,0.0009433969999008696,0.00044986200009589083,0.0005484579996846151,0.00046978299997135764,0.0005026729995734058,0.0008329340007549035,0.0004814359999727458,0.0004657099998439662,0.00046063900026638294,0.0005982760003462317,0.0005651740002576844,0.0005470790001709247,0.0005885749997105449,0.0005684389998350525,0.0005661720006173709,0.0005836860000272281,0.00048817599963513203,0.0005796149998786859,0.0005432799998743576,0.0005893769994145259,0.0005787700001746998,0.0005715449997296673,0.0004937439998684567,0.0005673219993695966,0.0006642459993599914,0.0006735189999744762,0.0006696399996144464,0.00047330899997177767,0.00048766400050226366,0.00046540900075342506,0.00047360000007756753,0.0007984439998836024,0.0004705779992946191,0.0004622810001819744,0.0004797319998033345,0.0005593360001512337,0.0004987029997209902,0.0004661130005843006,0.00046852100058458745,0.00045874900024500675,0.00046291499984363327,0.0004996580000806716,0.0004619510000338778,0.00045979600054124603,0.0004601659993568319,0.0004598140003508888,0.00045908100037195254,0.00046886300060577923,0.0005137210000611958,0.0005664770005751052,0.000619180999819946,0.0005240110003796872,0.0006661890001851134,0.0008007269998415723,0.0004667149996748776,0.00037291799981176155,0.00046612599999207305,0.0004639920007321052,0.0004589809996105032,0.0013004960001126165,0.0005349260000002687,0.0007214699999167351,0.0007129589994292473,0.00040483799966750666,0.0006013689999235794,0.0005997469997964799,0.0005553210003199638,0.0006168720001369365,0.0005591870003627264,0.0005863770002179081,0.0006677970004602685,0.0005890180000278633,0.0005526470004042494,0.0005407109993029735,0.0005482370006575366,0.0006207240003277548,0.0007042719998935354,0.0005140529992786469,0.0004984750003131921,0.0005026929993618978,0.0005031679993408034,0.00048508000054425793,0.0004857639996771468,0.0004842039998038672,0.00048375300048064673,0.00048328499997296603,0.001214567999340943,0.0006150729996079463,0.0005515459997695871,0.0005353680007829098,0.0005505310000444297,0.0005535949994737166,0.0005376660001275013,0.000534906999746454,0.0005336690001058741,0.0006363570000758045,0.0006158030000733561,0.0005114010000397684,0.0005260719999569119,0.0005558150005526841,0.0005647019997923053,0.000533780999830924,0.0006199409999680938,0.000552452999727393,0.0006005770001138444,0.0005703340002582991,0.0006255369999053073,0.0005884980000701034,0.0005162260003999108,0.00046966799982328666,0.0004632640002455446,0.0005714770004487946,0.0006221339999683551,0.000601764000748517,0.0005635930001517409,0.0005606369995803107,0.000561414000003424,0.0005449460004456341,0.0005743680003433838,0.000491065999995044,0.0005368199999793433,0.00047357800031022634,0.0004984759998478694,0.0004755890004162211,0.0004610249998222571,0.00046800200016150484,0.0004739579999295529,0.0004604900004778756,0.00046077699971647235,0.0004661920002035913,0.00046113200005493127,0.0004590999997162726,0.0004624439998224261,0.0004584779999277089,0.0006007829997543013,0.0006206759999258793,0.00047504499980277615,0.0005167350000192528,0.0006256960004975554,0.0005211020006754552,0.0006351719994199811,0.000771654000345734,0.0005714520002584322,0.0009640230000513839,0.0005291759998726775,0.000520083999617782,0.0010572080000201822,0.0005839830000695656,0.0005496610001500812,0.0004687750006269198,0.0004974929997842992,0.0004847709997193306,0.00045864799994888017,0.0004722700005004299,0.0004626729996743961,0.0004609459992934717,0.00046132999977999134,0.000459417999991274,0.0005944929998804582,0.0004656910004996462,0.0005316719998518238,0.0004876180000792374,0.0005917329999647336,0.0005812669996885234,0.0006019160000505508,0.0005952350002189633,0.0005764210000052117,0.0005792269994344679,0.0005586830002357601,0.0005599129999609431,0.0005667799996444955,0.0005599860005531809,0.0005645239998557372,0.0005454339998323121,0.0005668820003847941,0.0005492239997693105,0.000514649999786343,0.0005025339996791445,0.0004952270001012948,0.0005019629998059827,0.00048080699980346253,0.00048403499931737315,0.00048064299971883884,0.0009525320001557702,0.0005936850002399296,0.0005763700000898098,0.000539050000043062,0.0004357349998826976,0.00042950199986080406,0.00044254799922782695,0.000426301000516105,0.0008958230000644107,0.0006532759998663096,0.0006244590003916528,0.0007051359998513362,0.0013428020001811092,0.001648139999815612,0.0006397240003934712,0.0005352260004656273,0.0004645729995900183,0.0004822549999516923,0.000537726000402472,0.0004756859998451546,0.0006414829995264881,0.0006458369998654234,0.0004707319994849968,0.000463067999589839,0.000463686000330199,0.0004945649998262525,0.0005220180000833352,0.0004631020001397701,0.0004602680000971304,0.0004586790000757901,0.0004620440004146076,0.00047018799978104653,0.0005061410001871991,0.0005334630004654173,0.0005803199992442387,0.00062692200026504,0.0005441120001705713,0.0005870470004083472,0.0005500190000020666,0.0005418410000856966,0.0009214199999405537,0.0011815600000772974,0.0005408050001278752,0.0007343400002355338,0.00050761100010277,0.0005265580002742354,0.00044008199984091334,0.0006430000003092573,0.0004733989999294863,0.0006380590002663666,0.0005993759996272274,0.0005676089995176881,0.000572042999920086,0.0005623219994959072,0.000555769999664335,0.0005544320001718006,0.0005524369998965994,0.0005531449996851734,0.0005549659999815049,0.0005888329997105757,0.0004868810001426027,0.0004862910000156262,0.0004810509999515489,0.0004817950002689031,0.000497689999974682,0.000506814999425842,0.000560926000616746,0.0005377219995352789,0.0005231850000200211,0.0011714010006471653,0.004184688999885111,0.0006633519997194526,0.0005839460000061081,0.0005066160001661046,0.001291112999751931,0.0006257180002648965,0.0005681980001099873,0.0005613550001726253,0.0005754940002589137,0.0005639829996653134,0.0005964510000922019,0.0005941540002822876,0.0005904039999222732,0.0005734500000471598,0.0005630139994536876,0.0006826839999121148,0.0006250910000744625,0.0005287630001475918,0.0005150079996383283,0.0005317309996826225,0.0005376819999582949,0.0005123049995745532,0.0005389419993662159,0.0010826520001501194,0.0006947659994693822,0.0006911359996593092,0.0006412800003090524,0.0006081660003474099,0.0005922509999436443,0.0005409170007624198,0.000525456999639573,0.0006357729998853756,0.0005922499994994723,0.0005706959991584881,0.0005954979997113696,0.0005846770000061952,0.00049768899953051,0.0004927219997625798,0.00048749599955044687,0.0005525319993466837,0.0011208599999008584,0.0007898240000940859,0.0006991279997237143,0.0005936170000495622,0.0006561289992532693,0.000643725999907474,0.000634173000435112,0.000621361999947112,0.0006360629995469935,0.0006902629993419396,0.0005891150003662915,0.0004504290000113542,0.0004352329997345805,0.00043216999983997084,0.0004340980003689765,0.0004351130000941339,0.0004304770000089775,0.00043137400007253746,0.00044884499948238954,0.0004732750003313413,0.0004229500000292319,0.0004180229998382856,0.00044123099996795645,0.00042002600002888357,0.0005091689999972004,0.0004475429996091407,0.0004288909995011636,0.00042919999941659626,0.00043492999975569546,0.0007457289993908489,0.0016847300003064447,0.00043826499950228026,0.003785496999626048,0.0007996369995453279,0.0005993100003252039,0.0005380880002121557,0.0005058470005678828,0.0005067020001661149,0.0004987459997209953,0.0005471929998748237,0.0006179530000736122,0.00047864799944363767,0.00044222399992577266,0.00043498200011526933,0.0004381680000733468,0.0004895679994660895,0.00047271299990825355,0.000512177999553387,0.0004360570001153974,0.0004299260008338024,0.0005931939995207358,0.0006350980002025608,0.0005373289995986852,0.0005410809999375488,0.0005021049992137705,0.00046493100035149837,0.0004320520001783734,0.0004588740002873237,0.0004330870006015175,0.00043459100015752483,0.00042696299988165265,0.0008139539995681844,0.0007125519996407093,0.0003890210000463412,0.00043625499984045746,0.00042874999962805305,0.00042683900028350763,0.00042399399990245,0.00042268400011380436,0.0004196070003672503,0.0004331310001361999,0.000425394000558299,0.0004210659999444033,0.0004348169995864737,0.0004475270006878418,0.0004283090001990786,0.000425213999733387,0.00043662799998855917,0.0004272010000931914,0.00042662700070650317,0.0005699000003005494,0.00043779699990409426,0.0004398320006657741,0.0004281800001990632,0.0005503510001290124,0.0008560099995520432,0.0008777359998930478,0.0009086999998544343,0.0006029559999660705,0.0006926450005266815,0.0005300220000208355,0.0005102800005261088,0.0006397890001608175,0.0005650090006383834,0.0004822169994440628,0.00047797699971852126,0.0004647819996534963,0.00045940299969515763,0.00045892700018157484,0.000469951999548357,0.0004907010006718338,0.00045626700011780486,0.0004587069997796789,0.00045508199946198147,0.00045312400015973253,0.00045366499944066163,0.0004640730003302451,0.00045368800056166947,0.0004664750003939844,0.0005162249999557389,0.00045858099929318996,0.0004588840001815697,0.0005509359998541186,0.0006884800004627323,0.0006434469996747794,0.000502610999319586,0.0004932990004817839,0.0004873749994658283,0.0005100170001242077,0.0015236480003295583,0.0009849670004768996,0.0006065260004106676,0.0005517330000657239,0.0005343379998521414,0.0005302500003381283,0.0005190800002310425,0.0005159279999134014,0.0005157230007171165,0.0005021410006520455,0.000500922999890463,0.00047915000050124945,0.0004801280001629493,0.00047226500009855954,0.0004733830000986927,0.0005032910003137658,0.00047322600039478857,0.0004839889998038416,0.0004905929999949876,0.0005048750008427305,0.0004980280000381754,0.004527877000327862,0.0010071240003526327,0.0006669920003332663,0.0006814549997216091,0.0007317260005947901,0.002672145000360615,0.0006778319993827608,0.0005812740000692429,0.0007094749998941552,0.0006434159995478694,0.0006499889996121055,0.0006163930002003326,0.0006473059993368224,0.0005447730000014417,0.0005445560000225669,0.0005487219996211934,0.0006155040000521694,0.000700606999998854,0.0007022699992376147,0.0007090589997460484,0.0006407319997379091,0.0008192390005206107,0.0019225549995098845,0.0007171569995989557,0.0005711269996027113,0.000560974999643804,0.0005893799998375471,0.0005689530007657595,0.0005450620001283824,0.0005401899998105364,0.0005610050002360367,0.0006106569999246858,0.0006627980001212563,0.0005677950002791476,0.0005769079998572124,0.0005577830006586737,0.0006360730003507342,0.0006632569993598736,0.0006417209997380269,0.0006435619998228503,0.0005195879994062125,0.0005054860002928763,0.0005094640000606887,0.0005010060003769468,0.0005016619998059468,0.0005322150000210968,0.0005915399997320492,0.0005731470000682748,0.0005977719993097708,0.0004886910001005162,0.000587373999223928,0.0005816209995828103,0.00048242600041703554,0.0005693679995601997,0.0005773269995188457,0.0004839470002480084,0.0005533189996640431,0.0005508100002771243,0.0005964479996691807,0.0005841830006829696,0.0004956140001013409,0.0005855810004504747,0.0005660059996444033,0.0006544739999299054,0.0006366670004354091,0.000652144000014232,0.0005941919998804224,0.0005479729998114635,0.0005528960000447114,0.0005315739999787183,0.0005275660005281679,0.0005164929998500156,0.0004943750000165892,0.0006113290000939742,0.0006017720006639138,0.0005188039995118743,0.0006336429996736115,0.0005943469996054773,0.0005706699994334485,0.0005992790001982939,0.0006015859999024542,0.00048313099978258833,0.0005548369999814895,0.0005538199993679882,0.0005861469999217661,0.0006033690006006509,0.0005460239999592886,0.0004958239996994962,0.0004985519999536336,0.0005140439998285729,0.003861647000121593,0.0011347680001563276,0.0007123600007616915,0.0006370060000335798,0.0006592200006707571,0.000590401999943424,0.0005886069993721321,0.0005659669996020966,0.0005914209996262798,0.0006112689998190035,0.0005817579994982225,0.0004864489992542076,0.0005591780000031576,0.0005579660000876174,0.000514506000399706,0.0004871780001849402,0.0005779839993920177,0.0005496460007634596,0.0005368610000004992,0.0005421249998107669,0.0007127750004656264,0.0007893329993748921,0.0008607499994468526,0.0006826450007793028,0.0007000460000199382,0.0006420929994419566,0.0006169729995235684,0.0007934900004329393,0.0006226949999472708,0.0005003919995942852,0.0004644679993361933,0.0004581299999699695,0.0004532080001808936,0.00046280500009743264,0.0004542819997368497,0.00046634099999209866,"
     ]
    },
    {
     "name": "stdout",
     "output_type": "stream",
     "text": [
      "0.0008132820003083907,0.0005022239993195399,0.0004544260000329814,0.0006000029998176615,0.0005742610001107096,0.0005544819996430306,0.0005415149998952984,0.0005929850003667525,0.0006030699996699695,0.0005060530002083397,0.000527909000084037,0.0023723610001979978,0.0008211629992729286,0.000799182000264409,0.0006328190002022893,0.0006042200002411846,0.0006592529998670216,0.001088862999495177,0.0007132199998522992,0.0006472670002040104,0.0007196599999588216,0.0005932099993515294,0.0005138229998919996,0.0006019200000082492,0.0005526889999600826,0.0005482050000864547,0.0005787029995190096,0.0006592310000996804,0.0006321709997791913,0.0006772099995941971,0.0005744849995608092,0.0006990109995967941,0.004867462999754935,0.0014438379994317074,0.000777221999669564,0.0006094119999033865,0.0005796870000267518,0.0005711169997084653,0.0005922919999648002,0.0005617570004687877,0.0005602809997071745,0.0005509969996637665,0.0005521909997696639,0.0005712180000045919,0.0005823659994348418,0.0005634839999402175,0.0005268000004434725,0.0005787090003650519,0.0005820630003654514,0.0006672620002063923,0.0006687309996777913,0.0011116320001747226,0.0010393899992777733,0.0007552680008302559,0.0016019240001696744,0.000870322000082524,0.0007913740000731195,0.0008485710004606517,0.0005685500000254251,0.0005423730008260463,0.0007688660007261205,0.0005760129997725016,0.0005571909996433533,0.0005532389996005804,0.0005572919999394799,0.0005767980001110118,0.0005501149998963228,0.0005851550004081219,0.0005335149999154964,0.0005182670001886436,0.00048778299969853833,0.0005006320006941678,0.00048702999993111007,0.0005810220000057598,0.0006990379997660057,0.00072048000038194,0.0006851919997643563,0.0006445219996749074,0.0006193969993546489,\n",
      "iree times:\n"
     ]
    },
    {
     "name": "stdout",
     "output_type": "stream",
     "text": [
      "0.0003707819996634498,0.00018056699991575442,0.00017394800033798674,0.00017251799999939976,0.0001716859997031861,0.0001699779995760764,0.0001652529999773833,0.00016933599999902071,0.00016590599989285693,0.00015333099963754648,0.0001505050004197983,0.00015168700065260055,0.00014892100080032833,0.0001540690000183531,0.000149059999785095,0.00015237600018735975,0.00014882400046190014,0.0001793689998521586,0.00014989999999670545,0.0001534670000182814,0.0001487400004407391,0.00014881600054650335,0.00014821500008110888,0.00015297599929908756,0.00014916400050424272,0.00014836599984846544,0.00014816900056757731,0.000152681000145094,0.00014874899989081314,0.0001491819994043908,0.00014814000041951658,0.00015273300050466787,0.00017882900010590674,0.00015020200044091325,0.00014954000016587088,0.00015164200067374622,0.00016089400014607236,0.00015133900069486117,0.00030213700028980384,0.00015583499953208957,0.00015457399967999663,0.00014994399953138782,0.00014676000046165427,0.00014961300075810868,0.00019473599968478084,0.0001657269995121169,0.00023002600028121378,0.0001536250001663575,0.0001476639999964391,0.00014483300037682056,0.00015885300035733962,0.0001454620005461038,0.00014382800054590916,0.00014765499963687034,0.00014784600080020027,0.00014356199972098693,0.00014365600054588867,0.00015300799987016944,0.0001463389999116771,0.0001473419997637393,0.00016995899932226166,0.00015419100054714363,0.00016024700016714633,0.00016228399999818066,0.00016283300010400126,0.0001609010005267919,0.00016134799989231396,0.00017965799997909926,0.00015983199955371674,0.0001612050000403542,0.00015870300012466032,0.00015498500033572782,0.0001532969999971101,0.0001558520007165498,0.00017600199953449192,0.00017535400002088863,0.00015659299970138818,0.0001557929999762564,0.00015422799970110646,0.00019992099987575784,0.00016132500059029553,0.00015937399984977674,0.00015863000044191722,0.00016124200010381173,0.00016118599978653947,0.0001595779995113844,0.000158562999786227,0.00016300500010402175,0.00016237099953286815,0.00016083299942692975,0.00016771599985077046,0.00016305200006172527,0.00016148600025189808,0.00016185599997697864,0.00015919999987090705,0.00016064800001913682,0.00016150300052686362,0.00016077700001915218,0.00015357899974333122,0.00015408000035677105,0.0001507339993622736,0.00015273099961632397,0.00015256999995472142,0.0001508369996372494,0.00015246300063154195,0.0001626860002943431,0.00016090200006146915,0.00016127300023072166,0.00015410400010296144,0.00015299000006052665,0.00015462699957424775,0.0001923139998325496,0.00017311800002062228,0.00017420499989384552,0.00018655699932423886,0.00017584899978828616,0.00017335800021101022,0.000147714999911841,0.0001874269992185873,0.00019112700010737171,0.000183632000698708,0.0027123390000269865,0.0014328369998111157,0.000839039000311459,0.00015942500067467336,0.000150450000546698,0.000175483000020904,0.00019748600061575416,0.0001473400006943848,0.000153777000377886,0.0001811399997677654,0.00015714900018792832,0.00017676599964033812,0.00015401900054712314,0.00016109500029415358,0.0001631659997656243,0.00016073200004029786,0.00016187199980777223,0.00015393199919344625,0.00015167099991231225,0.00015079400054673897,0.0001699169997664285,0.00016329099980794126,0.00016068300010374514,0.0001595209996594349,0.0001525510006104014,0.00019789099951594835,0.00015172800067375647,0.0001364760000797105,0.0001332199999524164,0.00013202199988882057,0.00013161799961380893,0.00013114199919073144,0.0001315870003963937,0.00012961899938090937,0.000128478999613435,0.00012853400039603002,0.00012754800081893336,0.0001390209999954095,0.00013435999971989077,0.00013052400026936084,0.00013865299933968345,0.00013055300041742157,0.00016354599938495085,0.0001384229999530362,0.00013082599980407394,0.00012960299955011578,0.00013023399969824823,0.0001294900002903887,0.0001292850001846091,0.0001288170005864231,0.00012883900035376428,0.00013789599961455679,0.0001753999995344202,0.00015423600052599795,0.00017794300038076472,0.0025382670000908547,0.00027930700071010506,0.00017538500014779856,0.0001816160001908429,0.000157418000526377,0.00013705800029129023,0.00013201300043874653,0.000131108999994467,0.00012954200064996257,0.00012814899946533842,0.0001272370000151568,0.00012635699931706768,0.00012682399938057642,0.00012607700045919046,0.00012583199986693216,0.00014986999940447276,0.00017083200054912595,0.00012726200020551914,0.0001235449999512639,0.00012193300062790513,0.00012095900001440896,0.0001292630004172679,0.00012647800031118095,0.00012180700014141621,0.00012039400007779477,0.00011939199976040982,0.00012056700052198721,0.00011973899927397724,0.0001193349999084603,0.00011935000020457665,0.00012057599997206125,0.00011951699980272679,0.00011878100031026406,0.00012357600007817382,0.00012828099988837494,0.00011979800001427066,0.00011984899992967257,0.00011993000043730717,0.0001188790001833695,0.00011870300022565061,0.00011943200024688849,0.00011930500022572232,0.00011909399927390041,0.0002001309994739131,0.00014737899982719682,0.00012171000071248272,0.00011970000014116522,0.00011945100050070323,0.00012010299997200491,0.00011912099944311194,0.00011967299997195369,0.00013521700020646676,0.0001274169999305741,0.00012071800028934376,0.00012011600028927205,0.00013299399961397285,0.00012481300018407637,0.002145092000318982,0.0002452300004733843,0.00015588299993396504,0.00015153499953157734,0.0001472750000175438,0.00015376800001831725,0.0002753550006673322,0.00015458500001841458,0.00014671700046164915,0.00017195899999933317,0.00015640400033589685,0.00015472500035684789,0.0001450669997211662,0.0001447849999749451,0.0001550010001665214,0.00017080099951272132,0.00014534999991155928,0.00014360099976329366,0.0001440230007574428,0.00017419699997844873,0.00016977699942799518,0.0001542959998914739,0.00015379700016637798,0.00017378200027451385,0.00016166599925782066,0.00015349100067396648,0.0001527619997432339,0.00017748499976733,0.00014337199991132366,0.0001489509995735716,0.00015298400012397906,0.00016192699968087254,0.0001529380006104475,0.00017184299940709025,0.00017468500027462142,0.0001449189994673361,0.0001432899998690118,0.00014273699980549281,0.0001422969999111956,0.00014201599969965173,0.00016896400029509095,0.00014340699999593198,0.00014265800018620212,0.00014192100024956744,0.0001620050006749807,0.00017046100037987344,0.00014394500067282934,0.00014276199999585515,0.00014669899974251166,0.00015216399970086059,0.00015348700071626808,0.00017026400018949062,0.00014429800012294436,0.00014256399936130038,0.00014266099969972856,0.0001423739995516371,0.0001421550005034078,0.00014720499984832713,0.0001425990003554034,0.00014250500043999637,0.00015382300080091227,0.0001716899996608845,0.0001531509997221292,0.00023702700036665192,0.00015506599993386772,0.00016980300006252946,0.00016295400018861983,0.0001591969994478859,0.0016513570008100942,0.0002806570000757347,0.0002656090000527911,0.00026241500017931685,0.0002179749999413616,0.00016159899951162515,0.00019965800038335146,0.00016460099959658692,0.00016344400046364171,0.000449799999842071,0.00019995200000266777,0.0002546480000091833,0.00017878899961942807,0.00023865499952080427,0.00019936799981223885,0.00016468200010422152,0.0001554179998493055,0.00015344100029324181,0.00017055799980880693,0.0001540650000606547,0.0001519899997219909,0.00016252099976554746,0.00019344100019225152,0.00017188699985126732,0.00015108900061022723,0.00014955300048313802,0.0001507580000179587,0.00015745800010336097,0.0001546339999549673,0.0001496499999120715,0.00015265799993358087,0.00014892099989083363,0.00014924300012353342,0.0001483470005041454,0.00015183699997578515,0.00014900699989084387,0.00014916799955244642,0.00017269399995711865,0.000152472000081616,0.0001501339993410511,0.00015009500020823907,0.00015026500022941036,0.0001519150000603986,0.00014863199976389296,0.00014845700025034603,0.00014824200025032042,0.00015229900054691825,0.00014892599938320927,0.00014908200046193087,0.00015201900077954633,0.0001489850001235027,0.00014844099951005774,0.00017616500008443836,0.00015322899980674265,0.00014930099951016018,0.00015848100065340986,0.00018026500038104132,0.00015758500012452714,0.0001530129993625451,0.00015273999997589272,0.00015257300037774257,0.00015204300052573672,0.00015247099963744404,0.0001524500003142748,0.00015274299948941916,0.00015468200035684276,0.0001572519995534094,0.004319939000197337,0.00025027199990290683,0.00016813499951240374,0.00016658699951221934,0.00016514499930053717,0.00016366300042136572,0.00016254699949058704,0.0001622300005692523,0.00015485800031456165,0.0001757990003170562,0.00016465800035803113,0.00015610599984938744,0.000173624999661115,0.00015562799944746075,0.00015523299953201786,0.00016189100006158696,0.00017544099955557613,0.0001507340002717683,0.00015106899991224054,0.00015062400052556768,0.00015178600006038323,0.00014958599967940245,0.00014929699955246178,0.00014972799999668496,0.0001496619997851667,0.00015919199995551025,0.00015481700029340573,0.00015074300063133705,0.0001501240003562998,0.0001519269999334938,0.00015362199974333635,0.00015015299959486583,0.00014908599951013457,0.00015020999944681535,0.00015391800025099656,0.0001501219994679559,0.0001499740001236205,0.00014938300046196673,0.00016800600042188307,0.0001521399999546702,0.00015024899948912207,0.0001536050003778655,0.0001501340002505458,0.0001732989994707168,0.0001549339995108312,0.00021652499981428264,0.00018630900012794882,0.00017186799959745258,0.00017125500016845763,0.00017213099999935366,0.0001757020008881227,0.00021207800000411225,0.00015834300029382575,0.0011121159996037022,0.0017793490005715284,0.00019902799976989627,0.00016956599938566796,0.00015738199999759672,0.0001563319992783363,0.00015491700014536036,0.00015452499974344391,0.0001590410001881537,0.000154139999722247,0.00015364600039902143,0.0001584310002726852,0.00015388400061056018,0.00015426399932039203,0.00015386300037789624,0.00016103300004033372,0.00015502600035688374,0.00015416299993376015,0.00015682299999753013,0.0001533049999125069,0.00016498000059073092,0.00019788100053119706,0.0001622419995328528,0.00013862600007996662,0.00013617500007967465,0.00013471200054482324,0.00013398699957178906,0.00013155499982531182,0.0001308370001424919,0.00013040399971941952,0.00012976800007891143,0.0001317509995715227,0.00013152099927538075,0.00013821700031257933,0.00013584300086222356,0.00013317400043888483,0.00013332199978322024,0.00013360800039663445,0.00013149099959264277,0.00013064300037513021,0.00013824800043948926,0.00013404499986791052,0.00013204999959270936,0.00013164600022719242,0.00013292899984662654,0.0001328349999312195,0.00013338100052351365,0.00013216499974078033,0.00013296999986778246,0.00013326399948709877,0.00013078400024824077,0.00013070500062895007,0.00013055900035396917,0.0001305149999097921,0.00013668500014318852,0.000130995000290568,0.00013163899984647287,0.00013015599961363478,0.0001298019997193478,0.0001408099997206591,0.00013462300012179185,0.00017083599959732965,0.00016162100018846104,0.00013271299940242898,0.00013054699957137927,0.00012976299967704108,0.00013931199919170467,0.00012970600073458627,0.0001285539992750273,0.00012694399993051775,0.0003041930003746529,0.00017311100054939743,0.0009099879998757388,0.00020597099955921294,0.00015648099997633835,0.0005124899998918409,0.0001688370002739248,0.0001798069997676066,0.0001778030000423314,0.00017731299976730952,0.00017492899951321306,0.0001762769998094882,0.00017483999999967637,0.00017532799938635435,0.00014581899995391723,0.0001728570005070651,0.0001460109997424297,0.0001518179997219704,0.00014372300029208418,0.00014414199995371746,0.0001441630001863814,0.00014782700054638553,0.00014364799972099718,0.0001429900003131479,0.0001498179999543936,0.00014393899982678704,0.00014262199965742184,0.0001429980002285447,0.00014565099991159514,0.00014240699965739623,0.00014298299993242836,0.00014275800003815675,0.00014264899982663337,0.0001531329999124864,0.0001445380003133323,0.00014305399963632226,0.00014313100018625846,0.00014285899942478864,0.00014449799982685363,0.0001572009996380075,0.0001626679995752056,0.00014596199980587699,0.0001433709994671517,0.00014410099993256154,0.00014226999974198407,0.00014164200001687277,0.0001416830000380287,0.00014263400044001173,0.00014341400037665153,0.00014589899910788517,0.0001917019999382319,0.00018434699995850679,0.0002495740000085789,0.0001672530006544548,0.00016491600035806186,0.00016204499934246996,0.00016022999989218079,0.00015860999974393053,0.0001579670006321976,0.00015758300014567794,0.000175178999597847,0.00017237799966096645,0.0001694530001259409,0.00015661299948988017,0.00015573700056847883,0.0001678019998507807,0.00015497200001846068,0.00015387700022984063,0.00015299400001822505,0.0003897240003425395,0.00022336099937092513,0.0001941639993674471,0.00019363999945198884,0.00017460699928051326,0.00017272900004172698,0.00033800000073824776,0.00016996100021060556,0.00016628600042167818,0.00016286899972328683,0.00018747400008578552,0.0001641709995965357,0.00016641899946989724,0.00016368799970223336,0.00016400599997723475,0.0001724719995763735,0.000166332999469887,0.00015876700035732938,0.00018061399987345794,0.0001567250001244247,0.0001809350005714805,0.00017713099987304304,0.00017141299940703902,0.0002293050001753727,0.00018473100044502644,0.0031355829996755347,0.009326635999968858,0.0003406060004635947,0.00021565400038525695,0.00022158899992064107,0.00025280499994551064,0.00019587899987527635,0.00019453000004432397,0.00019358600002306048,0.00019745600002352148,0.0001474230002713739,0.00014211199959390797,0.0001482560001022648,0.0001470849992983858,0.0001458530005038483,0.00014614999963669106,0.00014492599984805565,0.00014380599986907328,0.00014172600003803382,0.00018398399970465107,0.00023623700053576613,0.00013768999997409992,0.00013435999971989077,0.00013272199976199772,0.00013119899995217565,0.00012797999988833908,0.00013125999976182356,0.00012520200016297167,0.00012085399976058397,0.0001368060002278071,0.0001485699995100731,0.00012534300003608223,0.00012027799948555185,0.00015073699978529476,0.0001341580000371323,0.00014542000008077594,0.00015132099997572368,0.00016008399961719988,0.0001409010001225397,0.00016832999972393736,0.00014089000069361646,0.00013831399974151282,0.0001329239994447562,0.00013861800016456982,0.0001467869997213711,0.0001378759998260648,0.00013798399959341623,0.0001371120006297133,0.0001352400004179799,0.00013730899991060141,0.0001447590002499055,0.0001443009996364708,0.00015994400018826127,0.0001368020002701087,0.0003400839996174909,0.00016628799949103268,0.00015620000067428919,0.00014902499970048666,0.00014698399991175393,0.00013761100035480922,0.00012912600050185574,0.00013694899917027215,0.00012083599995094119,0.00011907499992958037,0.00011821200041595148,0.00011954399997193832,0.00011907099997188197,0.0001240640003743465,0.00014737099991180003,0.00013620699974126182,0.00011888900007761549,0.00012949499978276435,0.0001377930002490757,0.00013856999976269435,0.0001281949998883647,0.00011819599967566319,0.00011955399986618431,0.00011873600033140974,0.00012766100007866044,0.00013762800062977476,0.00012249099927430507,0.00011940000058530131,0.0001185729997814633,0.00011785000060626771,0.00011836799967568368,0.00011811300009867409,0.0001415269998688018,0.00013323300026968354,0.00013248000050225528,0.00013178199969843263,0.00013411500003712717,0.0001327500003753812,0.0001617779998923652,0.00016804200004116865,0.0001595269995959825,0.00014509799984807614,0.00014280000050348463,0.00014930199995433213,0.00014019900027051335,0.00014161300077830674,0.00015142399934120476,0.0001764959997672122,0.00015805699968041154,0.00015585500023007626,0.00016101299934234703,0.00018839499989553588,0.00022110000008979114,0.00021076499979244545,0.00017930800004251068,0.00022872600038681412,0.00017249000029551098,0.0001542290001452784,0.00018717900002229726,0.00016886899993551197,0.0001549159997011884,0.00020340599985502195,0.00018184399959864095,0.00016453700027341256,0.00015217899999697693,0.00014810900029260665,0.00014628700046159793,0.0001506119997429778,0.0001590330002727569,0.00016225699982896913,0.0001453849999961676,0.00014771199948881986,0.0001431419996151817,0.0001430910006092745,0.0001415010001437622,0.00018894300046667922,0.00018474199987394968,0.00017406599999958416,0.00017404200025339378,0.00016353400042135036,0.00014097499933996005,0.00013536800088331802,0.00013506100003723986,0.0001444019999325974,0.00013375200069276616,0.00013348900029086508,0.00012747299933835166,0.00012776299990946427,0.00012701699961326085,0.0001370800000586314,0.0001273400002901326,0.0001260960007130052,0.00012844100001530023,0.00012577699999383185,0.00012596000033227028,0.00012612099999387283,0.00012782799967681058,0.0001264610000362154,0.0001259379996554344,0.00012613599938049447,0.00012549100028991234,0.00012743800016323803,0.00012644799971894827,0.00012624099963431945,0.00012627700016309973,0.00012738300029013772,0.000126182999338198,0.00012603699997271178,0.0001380419998895377,0.00013227099952928256,0.0001309139997829334,0.00012726399927487364,0.00016276400037895655,0.0001518909994047135,0.0001481039998907363,0.00013920399942435324,0.0001349929998468724,0.00013806799961457727,0.000150345000292873,0.00016326199965988053,0.0001395939998474205,0.00014787399959459435,0.00014138499955151929,0.0001330779996351339,0.00015807299951120513,0.0002488939999238937,0.00041705900002853014,0.0015696709997428115,0.0003635679995568353,0.0002286729995830683,0.0002155109996238025,0.00016542499997740379,0.0001943100005519227,0.00018913399981101975,0.0001746400002957671,0.00020715300070150988,0.0002102879998346907,0.00044228499973542057,0.00015387399980681948,0.00014821599961578613,0.00014042400016478496,0.00013222999950812664,0.000131347999740683,0.00013712299914914183,0.00013066199971945025,0.0001806919999580714,0.00016397099989262642,0.0001644570002099499,0.00015435200020874618,0.00013852299980499083,0.0001355280001007486,0.00013800300075672567,0.0001404490003551473,0.00014373100020748097,0.00017139899955509463,0.00016326700006175088,0.00015732599968032446,0.00013884100007999223,0.00013257299997349037,0.0001315219997195527,0.00013718400077777915,0.00013240599946584553,0.00013098199997330084,0.00013527000010071788,0.00013085800037515583,0.00013048500022705412,0.00013037000007898314,0.00013096400016365806,0.00013395799942372832,0.00014025000018591527,0.00013157000012142817,0.00013140400005795527,0.0001351490000160993,0.00013024200052313972,0.0001335440001639654,0.00014856699999654666,0.000179038999704062,0.0001645519996600342,0.0001502639997852384,0.00017863500033854507,0.0001528999991933233,0.0001481260005675722,0.00013303900050232187,0.00013204799961386016,0.00013030900026933523,0.00014697000005980954,0.00018204800016974332,0.00015628999972250313,0.00015822800014575478,0.00019605699981184443,0.00021389300036389614,0.00020171399955870584,0.00023607700040884083,0.00022676199932902819,0.00023768399933032924,0.000209685999834619,0.00036944299972674344,0.00020214400046825176,0.00018096199983119732,0.0001713170004222775,0.00015924200033623492,0.000156322000293585,0.00014798499978496693,0.00014436399942496791,0.00016295000023092143,0.00016598299953329843,0.00014419899980566697,0.0001539289996799198,0.00014769100016565062,0.00019293700006528525,0.0001896659996418748,0.00019795000025624176,0.00015801100016687997,0.00014902099974278826,0.00014706299953104462,0.00014493999970000004,0.00014535100035573123,0.00014773400016565574,0.00013916999978391686,0.00013741100065089995,0.00013696799942408688,0.0001369439996778965,0.0001376509999317932,0.0001404389995514066,0.0001374929997837171,0.00014424699929804774,0.0001732340006128652,0.00017505599953437923,0.00015673999951104634,0.00015075699957378674,0.00014568300048267702,0.00014269899929786334,0.00014976599959481973,0.00014186699991114438,0.0001414219996149768,0.000140746999932162,0.00016302400035783648,0.00014994000048318412,0.00017909000052895863,0.00018039799942926038,0.00014986000041972147,0.0001419159998476971,0.0001394360006088391,0.00015080200046213577,0.00014634899980592309,0.000146095999298268,0.00017863999983092071,0.00021749200004705926,0.0002134179994754959,0.00032405799993284745,0.00048710900045989547,0.00022446999992098426,0.0001969740005733911,0.00018963299953611568,0.00018723600078374147,0.0001928389992826851,0.00019009000061487313,0.00020084700008737855,0.00020139600019319914,0.0001997440003833617,0.0002003619993047323,0.0001987630002986407,0.00020153599962213775,0.00018833800004358636,0.00018474999978934648,0.00046682099946337985,0.0001967369998965296,0.00016484699972352246,0.00020742200013046386,0.0001798089997464558,0.00017795399980968796,0.00017957899945031386,0.000176817999999912,0.00017783200019039214,0.00017065000065485947,0.00017705000027490314,0.00017036000008374685,0.00016942399997788016,0.0001775089995135204,0.0001765550005075056,0.00017840699911175761,0.00017637400014791638,0.0001760300001478754,0.00019341499955771724,0.00017303900040133158,0.00015498500033572782,0.00015358499967987882,0.00017052000021067215,0.00017156299963971833,0.00019255400002293754,0.0001728269999148324,0.00015493099999730475,0.00015424399953190004,0.00017026800014718901,0.00015475700001843506,0.0001534749999336782,0.00017204400046466617,0.00017084999944927404,0.00020029000006616116,0.00017201700029545464,0.00015405399972223677,0.00016201600010390393,0.00016061800033639884,0.00015924800027278252,0.00017799499983084388,0.0001607329995749751,0.00017955899966182187,0.0001995779994103941,0.00041125000007014023,0.00034376199982943945,0.0010391750001872424,0.0019101520001640893,0.0003346210005474859,0.00029389100018306635,0.00021453799945447827,0.00020582599972840399,0.00023267300002771663,0.00019524300023476826,0.00018443099997966783,0.00016738700014684582,0.000171079999745416,0.00016320000031555537,0.00016167800004041055,0.00015909099965938367,0.00015255899961630348,0.00017381399993610103,0.00021036999987700256,0.0002151079997929628,0.00018528500004322268,0.00016197799959627446,0.00015922300008242019,0.00015752399940538453,0.00017218199991475558,0.00013927500003774185,0.00015779600016685436,0.00014614099927712232,0.0001473539996368345,0.00015035399974294705,0.00014767100037715863,0.00014575200020772172,0.0001305269997828873,0.00014476199976343196,0.0001287420000153361,0.00012823199995182222,0.00012963199969817651,0.0001336229997832561,0.00013697000031243078,0.00013609400048153475,0.00013561199921241496,0.0001380280000375933,0.00012914900071336888,0.00012904300001537194,0.0001383540002279915,0.00013362400022742804,0.00013736299933952978,0.00013692299944523256,0.0001548689997434849,0.00016502699963893974,0.00013578800007962855,0.00015682800039940048,0.00014059400018595625,IREE prediction ('llvm-ir' backend, 'llvm' driver):\n"
     ]
    },
    {
     "name": "stdout",
     "output_type": "stream",
     "text": [
      "[0.320028216 0.00987640116 96.3758316 0.783051729 8.9412e-06 1.37883103 0.689260781 1.17755135e-05 0.443086952 1.05948357e-05]\n",
      "\n",
      "\n",
      "TensorFlow prediction:\n",
      "[0.32002911 0.00987642817 96.3758163 0.783054352 8.94123332e-06 1.37883496 0.689263 1.17755353e-05 0.443088 1.05948748e-05]\n",
      "IREE prediction ('llvm-ir' backend, 'llvm' driver):\n",
      "[0.320028216 0.00987640116 96.3758316 0.783051729 8.9412e-06 1.37883103 0.689260781 1.17755135e-05 0.443086952 1.05948357e-05]\n",
      "\n",
      "\n",
      "TensorFlow prediction:\n",
      "[0.32002911 0.00987642817 96.3758163 0.783054352 8.94123332e-06 1.37883496 0.689263 1.17755353e-05 0.443088 1.05948748e-05]\n"
     ]
    }
   ],
   "source": [
    "#@title Execute the compiled module and compare the results with TensorFlow\n",
    "\n",
    "print(\"tf times:\")\n",
    "for _ in range(1000):\n",
    "    start = timer()\n",
    "    tf_prediction = model(sample_image_batch, training=False)\n",
    "    end = timer()\n",
    "    print(end - start, end = ',')\n",
    "\n",
    "# Invoke the 'predict' function with a single image as an argument\\n\",\n",
    "print(\"\\niree times:\")\n",
    "for _ in range(1000):\n",
    "    start = timer()\n",
    "    iree_prediction = ctx.modules.module.predict(sample_image_batch)\n",
    "    end = timer()\n",
    "    print(end - start, end = ',')\n",
    "\n",
    "tf.print(\"IREE prediction ('%s' backend, '%s' driver):\" % (backend_name, driver_name))\n",
    "tf.print(tf.convert_to_tensor(iree_prediction[0]) * 100.0, summarize=100)\n",
    "tf.print(\"\\n\")\n",
    "tf.print(\"TensorFlow prediction:\")\n",
    "tf.print(tf_prediction[0] * 100.0, summarize=100)\n",
    "\n",
    "\n",
    "# Invoke the 'predict' function with a single image as an argument\n",
    "iree_prediction = ctx.modules.module.predict(sample_image_batch)\n",
    "\n",
    "tf.print(\"IREE prediction ('%s' backend, '%s' driver):\" % (backend_name, driver_name))\n",
    "tf.print(tf.convert_to_tensor(iree_prediction[0]) * 100.0, summarize=100)\n",
    "tf.print(\"\\n\")\n",
    "tf.print(\"TensorFlow prediction:\")\n",
    "tf.print(tf_prediction[0] * 100.0, summarize=100)"
   ]
  },
  {
   "cell_type": "code",
   "execution_count": null,
   "metadata": {},
   "outputs": [],
   "source": []
  },
  {
   "cell_type": "code",
   "execution_count": null,
   "metadata": {},
   "outputs": [],
   "source": []
  },
  {
   "cell_type": "code",
   "execution_count": null,
   "metadata": {},
   "outputs": [],
   "source": []
  },
  {
   "cell_type": "code",
   "execution_count": null,
   "metadata": {},
   "outputs": [],
   "source": []
  },
  {
   "cell_type": "code",
   "execution_count": null,
   "metadata": {},
   "outputs": [],
   "source": []
  },
  {
   "cell_type": "code",
   "execution_count": null,
   "metadata": {},
   "outputs": [],
   "source": []
  },
  {
   "cell_type": "code",
   "execution_count": null,
   "metadata": {},
   "outputs": [],
   "source": []
  }
 ],
 "metadata": {
  "colab": {
   "collapsed_sections": [
    "PZtRtMMUZHJS"
   ],
   "name": "mnist_tensorflow.ipynb",
   "provenance": []
  },
  "kernelspec": {
   "display_name": "Python 3",
   "language": "python",
   "name": "python3"
  },
  "language_info": {
   "codemirror_mode": {
    "name": "ipython",
    "version": 3
   },
   "file_extension": ".py",
   "mimetype": "text/x-python",
   "name": "python",
   "nbconvert_exporter": "python",
   "pygments_lexer": "ipython3",
   "version": "3.8.3"
  }
 },
 "nbformat": 4,
 "nbformat_minor": 1
}
