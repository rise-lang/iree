{
 "cells": [
  {
   "cell_type": "markdown",
   "metadata": {
    "colab_type": "text",
    "id": "PZtRtMMUZHJS"
   },
   "source": [
    "##### Copyright 2020 Google LLC.\n",
    "\n",
    "Licensed under the Apache License, Version 2.0 (the \"License\");"
   ]
  },
  {
   "cell_type": "code",
   "execution_count": 1,
   "metadata": {
    "cellView": "both",
    "colab": {},
    "colab_type": "code",
    "id": "TouZL3JZZSQe"
   },
   "outputs": [],
   "source": [
    "#@title License header\n",
    "# Copyright 2020 Google LLC\n",
    "#\n",
    "# Licensed under the Apache License, Version 2.0 (the \"License\");\n",
    "# you may not use this file except in compliance with the License.\n",
    "# You may obtain a copy of the License at\n",
    "#\n",
    "#      https://www.apache.org/licenses/LICENSE-2.0\n",
    "#\n",
    "# Unless required by applicable law or agreed to in writing, software\n",
    "# distributed under the License is distributed on an \"AS IS\" BASIS,\n",
    "# WITHOUT WARRANTIES OR CONDITIONS OF ANY KIND, either express or implied.\n",
    "# See the License for the specific language governing permissions and\n",
    "# limitations under the License."
   ]
  },
  {
   "cell_type": "markdown",
   "metadata": {
    "colab_type": "text",
    "id": "O6c3qfq5Zv57"
   },
   "source": [
    "# MNIST Model TensorFlow Training, IREE Execution\n",
    "\n",
    "## Overview\n",
    "\n",
    "This notebook creates and trains a TensorFlow 2.0 model for recognizing handwritten digits using the [MNIST dataset](https://en.wikipedia.org/wiki/MNIST_database), then compiles and executes that trained model using IREE.\n",
    "\n",
    "## Running Locally\n",
    "\n",
    "*  Refer to [iree/docs/using_colab.md](https://github.com/google/iree/blob/main/docs/using_colab.md) for general information\n",
    "*  Ensure that you have a recent version of TensorFlow 2.0 [installed on your system](https://www.tensorflow.org/install)\n",
    "*  Enable IREE/TF integration by adding to your user.bazelrc: `build --define=iree_tensorflow=true`\n",
    "*  Start colab by running `python colab/start_colab_kernel.py` (see that file for additional instructions)\n",
    "*  Note: you may need to restart your runtime in order to re-run certain cells. Some of the APIs are not yet stable enough for repeated invocations"
   ]
  },
  {
   "cell_type": "markdown",
   "metadata": {
    "colab_type": "text",
    "id": "wBXlE69Ia2QU"
   },
   "source": [
    "# Setup Steps"
   ]
  },
  {
   "cell_type": "code",
   "execution_count": 2,
   "metadata": {
    "colab": {
     "base_uri": "https://localhost:8080/",
     "height": 51
    },
    "colab_type": "code",
    "id": "EPF7RGQDYK-M",
    "outputId": "fe0d703a-2ad7-4d14-9aef-c69b4c342a16"
   },
   "outputs": [
    {
     "name": "stdout",
     "output_type": "stream",
     "text": [
      "TensorFlow version:  2.2.0\n",
      "Numpy version:  1.19.0\n"
     ]
    }
   ],
   "source": [
    "import os\n",
    "import numpy as np\n",
    "import tensorflow as tf\n",
    "from matplotlib import pyplot as plt\n",
    "from pyiree.tf import compiler as ireec\n",
    "from pyiree import rt as ireert\n",
    "from timeit import default_timer as timer\n",
    "\n",
    "tf.compat.v1.enable_eager_execution()\n",
    "\n",
    "SAVE_PATH = os.path.join(os.environ[\"HOME\"], \"saved_models\")\n",
    "os.makedirs(SAVE_PATH, exist_ok=True)\n",
    "\n",
    "# Print version information for future notebook users to reference.\n",
    "print(\"TensorFlow version: \", tf.__version__)\n",
    "print(\"Numpy version: \", np.__version__)"
   ]
  },
  {
   "cell_type": "code",
   "execution_count": 3,
   "metadata": {
    "cellView": "form",
    "colab": {
     "base_uri": "https://localhost:8080/",
     "height": 34
    },
    "colab_type": "code",
    "id": "43BH_9YcsGs8",
    "outputId": "46a560cb-5947-4cfa-f71e-9065bf2c07ab"
   },
   "outputs": [
    {
     "name": "stdout",
     "output_type": "stream",
     "text": [
      "Using IREE compiler backend 'llvm-ir' and runtime driver 'llvm'\n"
     ]
    }
   ],
   "source": [
    "#@title Notebook settings { run: \"auto\" }\n",
    "\n",
    "#@markdown -----\n",
    "#@markdown ### Configuration\n",
    "\n",
    "backend_choice = \"GPU (vulkan-spirv)\" #@param [ \"GPU (vulkan-spirv)\", \"CPU (VMLA)\" ]\n",
    "\n",
    "if backend_choice == \"GPU (vulkan-spirv)\":\n",
    "  backend_name = \"vulkan-spirv\"\n",
    "  driver_name = \"vulkan\"\n",
    "else:\n",
    "  backend_name = \"vmla\"\n",
    "  driver_name = \"vmla\"\n",
    "    \n",
    "backend_name = \"llvm-ir\"\n",
    "driver_name = \"llvm\"\n",
    "tf.print(\"Using IREE compiler backend '%s' and runtime driver '%s'\" % (backend_name, driver_name))\n",
    "\n",
    "#@markdown -----\n",
    "#@markdown ### Training Parameters\n",
    "\n",
    "#@markdown <sup>Batch size used to subdivide the training and evaluation samples</sup>\n",
    "batch_size = 200  #@param { type: \"slider\", min: 10, max: 400 }\n",
    "\n",
    "#@markdown <sup>Epochs for training/eval. Higher values take longer to run but generally produce more accurate models</sup>\n",
    "num_epochs = 5    #@param { type: \"slider\", min:  1, max:  20 }\n",
    "\n",
    "#@markdown -----"
   ]
  },
  {
   "cell_type": "markdown",
   "metadata": {
    "colab_type": "text",
    "id": "5vkQOMOMbXdy"
   },
   "source": [
    "# Create and Train MNIST Model in TensorFlow\n",
    "\n",
    "The specific details of the training process here aren't critical to the model compilation and execution through IREE."
   ]
  },
  {
   "cell_type": "code",
   "execution_count": 4,
   "metadata": {
    "cellView": "form",
    "colab": {
     "base_uri": "https://localhost:8080/",
     "height": 486
    },
    "colab_type": "code",
    "id": "GXZIrReTbTHN",
    "outputId": "9c01fab1-f8cb-4a63-fff1-6b82a9b6b49d"
   },
   "outputs": [
    {
     "name": "stdout",
     "output_type": "stream",
     "text": [
      "Loaded MNIST dataset!\n",
      "INFO:tensorflow:ParameterServerStrategy (CentralStorageStrategy if you are using a single machine) with compute_devices = ['/job:localhost/replica:0/task:0/device:CPU:0'], variable_device = '/job:localhost/replica:0/task:0/device:CPU:0'\n",
      "Configured data for training and evaluation!\n",
      "  sample shape: (28, 28, 1)\n",
      "  training samples: 60000\n",
      "  test     samples: 10000\n",
      "  epochs: 5\n",
      "  steps/epoch: 300\n",
      "  steps/eval : 50\n",
      "\n",
      "Sample image from the dataset:\n"
     ]
    },
    {
     "data": {
      "image/png": "[encoded data removed]",
      "text/plain": [
       "<Figure size 432x288 with 1 Axes>"
      ]
     },
     "metadata": {
      "needs_background": "light"
     },
     "output_type": "display_data"
    },
    {
     "name": "stdout",
     "output_type": "stream",
     "text": [
      "\n",
      "Ground truth labels: [0. 0. 1. 0. 0. 0. 0. 0. 0. 0.]\n"
     ]
    }
   ],
   "source": [
    "#@title Load MNIST dataset, setup training and evaluation\n",
    "\n",
    "NUM_CLASSES = 10  # One per digit [0, 1, 2, ..., 9]\n",
    "IMG_ROWS, IMG_COLS = 28, 28\n",
    "\n",
    "(x_train, y_train), (x_test, y_test) = tf.keras.datasets.mnist.load_data()\n",
    "tf.print(\"Loaded MNIST dataset!\")\n",
    "\n",
    "x_train = x_train.reshape(x_train.shape[0], IMG_ROWS, IMG_COLS, 1)\n",
    "x_test = x_test.reshape(x_test.shape[0], IMG_ROWS, IMG_COLS, 1)\n",
    "input_shape = (IMG_ROWS, IMG_COLS, 1)\n",
    "\n",
    "# Scale pixel values from [0, 255] integers to [0.0, 1.0] floats.\n",
    "x_train = x_train.astype(\"float32\") / 255\n",
    "x_test = x_test.astype(\"float32\") / 255\n",
    "\n",
    "steps_per_epoch = int(x_train.shape[0] / batch_size)\n",
    "steps_per_eval = int(x_test.shape[0] / batch_size)\n",
    "\n",
    "# Convert class vectors to binary class matrices.\n",
    "y_train = tf.keras.utils.to_categorical(y_train, NUM_CLASSES)\n",
    "y_test = tf.keras.utils.to_categorical(y_test, NUM_CLASSES)\n",
    "\n",
    "# Construct batched datasets for training/evaluation.\n",
    "train_dataset = tf.data.Dataset.from_tensor_slices((x_train, y_train))\n",
    "train_dataset = train_dataset.batch(batch_size, drop_remainder=True)\n",
    "test_dataset = tf.data.Dataset.from_tensor_slices((x_test, y_test))\n",
    "test_dataset = test_dataset.batch(batch_size, drop_remainder=True)\n",
    "\n",
    "# Create a distribution strategy for the dataset (single machine).\n",
    "strategy = tf.distribute.experimental.CentralStorageStrategy()\n",
    "train_dist_ds = strategy.experimental_distribute_dataset(train_dataset)\n",
    "test_dist_ds = strategy.experimental_distribute_dataset(test_dataset)\n",
    "\n",
    "tf.print(\"Configured data for training and evaluation!\")\n",
    "tf.print(\"  sample shape: %s\" % str(x_train[0].shape))\n",
    "tf.print(\"  training samples: %s\" % x_train.shape[0])\n",
    "tf.print(\"  test     samples: %s\" % x_test.shape[0])\n",
    "tf.print(\"  epochs: %s\" % num_epochs)\n",
    "tf.print(\"  steps/epoch: %s\" % steps_per_epoch)\n",
    "tf.print(\"  steps/eval : %s\" % steps_per_eval)\n",
    "\n",
    "tf.print(\"\")\n",
    "tf.print(\"Sample image from the dataset:\")\n",
    "SAMPLE_EXAMPLE_INDEX = 1\n",
    "sample_image = x_test[SAMPLE_EXAMPLE_INDEX]\n",
    "sample_image_batch = np.expand_dims(sample_image, axis=0)\n",
    "sample_label = y_test[SAMPLE_EXAMPLE_INDEX]\n",
    "plt.imshow(sample_image.reshape(IMG_ROWS, IMG_COLS))\n",
    "plt.show()\n",
    "tf.print(\"\\nGround truth labels: %s\" % str(sample_label))"
   ]
  },
  {
   "cell_type": "code",
   "execution_count": 5,
   "metadata": {
    "cellView": "both",
    "colab": {},
    "colab_type": "code",
    "id": "tHq96SIJcNfx"
   },
   "outputs": [],
   "source": [
    "#@title Define MNIST model architecture using tf.keras API\n",
    "\n",
    "def simple_mnist_model(input_shape):\n",
    "  \"\"\"Creates a simple (multi-layer perceptron) MNIST model.\"\"\"\n",
    "\n",
    "  model = tf.keras.models.Sequential()\n",
    "  # Flatten to a 1d array (e.g. 28x28 -> 784)\n",
    "  model.add(tf.keras.layers.Flatten(input_shape=input_shape))\n",
    "  # Fully-connected neural layer with 128 neurons, RELU activation\n",
    "  model.add(tf.keras.layers.Dense(128, activation='relu'))\n",
    "  # Fully-connected neural layer returning probability scores for each class\n",
    "  model.add(tf.keras.layers.Dense(10, activation='softmax'))\n",
    "  return model"
   ]
  },
  {
   "cell_type": "code",
   "execution_count": 6,
   "metadata": {
    "cellView": "form",
    "colab": {
     "base_uri": "https://localhost:8080/",
     "height": 374
    },
    "colab_type": "code",
    "id": "7Gdxh7qWcPSO",
    "outputId": "50b0aede-9a8f-4ce5-b340-783be5fbfc06"
   },
   "outputs": [
    {
     "name": "stdout",
     "output_type": "stream",
     "text": [
      "Constructed Keras MNIST model, training...\n",
      "Running epoch #1\n",
      "  Training loss: 0.724615, accuracy: 81.996666\n",
      "  Test loss    : 0.385540, accuracy: 89.580002\n",
      "Running epoch #2\n",
      "  Training loss: 0.359276, accuracy: 90.001663\n",
      "  Test loss    : 0.312792, accuracy: 91.220001\n",
      "Running epoch #3\n",
      "  Training loss: 0.306788, accuracy: 91.379997\n",
      "  Test loss    : 0.279131, accuracy: 92.139999\n",
      "Running epoch #4\n",
      "  Training loss: 0.276152, accuracy: 92.221664\n",
      "  Test loss    : 0.256219, accuracy: 92.739998\n",
      "Running epoch #5\n",
      "  Training loss: 0.253530, accuracy: 92.845001\n",
      "  Test loss    : 0.238387, accuracy: 93.220001\n",
      "Completed training!\n",
      "\n",
      "Sample prediction:\n",
      "[0.956208467 0.0185949933 91.8950729 3.40785193 3.93361734e-06 1.75917 1.73989081 2.99627914e-06 0.223200902 1.49807111e-05]\n",
      "\n"
     ]
    }
   ],
   "source": [
    "#@title Train the Keras model\n",
    "\n",
    "with strategy.scope():\n",
    "  model = simple_mnist_model(input_shape)\n",
    "  tf.print(\"Constructed Keras MNIST model, training...\")\n",
    "\n",
    "  optimizer = tf.keras.optimizers.SGD(learning_rate=0.05)\n",
    "  training_loss = tf.keras.metrics.Mean(\"training_loss\", dtype=tf.float32)\n",
    "  training_accuracy = tf.keras.metrics.CategoricalAccuracy(\n",
    "      \"training_accuracy\", dtype=tf.float32)\n",
    "  test_loss = tf.keras.metrics.Mean(\"test_loss\", dtype=tf.float32)\n",
    "  test_accuracy = tf.keras.metrics.CategoricalAccuracy(\n",
    "      \"test_accuracy\", dtype=tf.float32)\n",
    "\n",
    "  @tf.function\n",
    "  def train_step(iterator):\n",
    "    \"\"\"Training StepFn.\"\"\"\n",
    "\n",
    "    def step_fn(inputs):\n",
    "      \"\"\"Per-Replica StepFn.\"\"\"\n",
    "      images, labels = inputs\n",
    "      with tf.GradientTape() as tape:\n",
    "        logits = model(images, training=True)\n",
    "        loss = tf.keras.losses.categorical_crossentropy(labels, logits)\n",
    "        loss = tf.reduce_mean(loss) / strategy.num_replicas_in_sync\n",
    "      grads = tape.gradient(loss, model.trainable_variables)\n",
    "      optimizer.apply_gradients(zip(grads, model.trainable_variables))\n",
    "      training_loss.update_state(loss)\n",
    "      training_accuracy.update_state(labels, logits)\n",
    "\n",
    "    strategy.run(step_fn, args=(next(iterator),))\n",
    "\n",
    "  @tf.function\n",
    "  def test_step(iterator):\n",
    "    \"\"\"Evaluation StepFn.\"\"\"\n",
    "\n",
    "    def step_fn(inputs):\n",
    "      images, labels = inputs\n",
    "      logits = model(images, training=False)\n",
    "      loss = tf.keras.losses.categorical_crossentropy(labels, logits)\n",
    "      loss = tf.reduce_mean(loss) / strategy.num_replicas_in_sync\n",
    "      test_loss.update_state(loss)\n",
    "      test_accuracy.update_state(labels, logits)\n",
    "\n",
    "    strategy.run(step_fn, args=(next(iterator),))\n",
    "\n",
    "  for epoch in range(0, num_epochs):\n",
    "    tf.print(\"Running epoch #%s\" % (epoch + 1))\n",
    "\n",
    "    train_iterator = iter(train_dist_ds)\n",
    "    for step in range(steps_per_epoch):\n",
    "      train_step(train_iterator)\n",
    "    tf.print(\"  Training loss: %f, accuracy: %f\" % (training_loss.result(), training_accuracy.result() * 100))\n",
    "    training_loss.reset_states()\n",
    "    training_accuracy.reset_states()\n",
    "\n",
    "    test_iterator = iter(test_dist_ds)\n",
    "    for step in range(steps_per_eval):\n",
    "      test_step(test_iterator)\n",
    "    tf.print(\"  Test loss    : %f, accuracy: %f\" % (test_loss.result(), test_accuracy.result() * 100))\n",
    "    test_loss.reset_states()\n",
    "    test_accuracy.reset_states()\n",
    "\n",
    "  tf.print(\"Completed training!\")\n",
    "  tf.print(\"\")\n",
    "\n",
    "  # Run a single prediction on the trained model\n",
    "  tf_prediction = model(sample_image_batch, training=False)\n",
    "  tf.print(\"Sample prediction:\")\n",
    "  tf.print(tf_prediction[0] * 100.0, summarize=100)\n",
    "  tf.print(\"\")"
   ]
  },
  {
   "cell_type": "code",
   "execution_count": 7,
   "metadata": {
    "colab": {
     "base_uri": "https://localhost:8080/",
     "height": 153
    },
    "colab_type": "code",
    "id": "DmespEaFcSEL",
    "outputId": "3c8579db-7b3c-4164-ff91-394346595107"
   },
   "outputs": [
    {
     "name": "stdout",
     "output_type": "stream",
     "text": [
      "Exporting SavedModel to /tmp/mnist.sm\n",
      "WARNING:tensorflow:From /home/martin/.local/lib/python3.8/site-packages/tensorflow/python/ops/resource_variable_ops.py:1813: calling BaseResourceVariable.__init__ (from tensorflow.python.ops.resource_variable_ops) with constraint is deprecated and will be removed in a future version.\n",
      "Instructions for updating:\n",
      "If using Keras pass *_constraint arguments to layers.\n",
      "INFO:tensorflow:Assets written to: /tmp/mnist.sm/assets\n"
     ]
    }
   ],
   "source": [
    "#@title Export the trained model as a SavedModel, with IREE-compatible settings\n",
    "\n",
    "# Since the model was written in sequential style, explicitly wrap in a module.\n",
    "saved_model_dir = \"/tmp/mnist.sm\"\n",
    "inference_module = tf.Module()\n",
    "inference_module.model = model\n",
    "# Hack: Convert to static shape. Won't be necessary once dynamic shapes are in.\n",
    "dynamic_input_shape = list(model.inputs[0].shape)\n",
    "dynamic_input_shape[0] = 1  # Make fixed (batch=1)\n",
    "# Produce a concrete function.\n",
    "inference_module.predict = tf.function(\n",
    "    input_signature=[\n",
    "        tf.TensorSpec(dynamic_input_shape, model.inputs[0].dtype)])(\n",
    "            lambda x: model.call(x, training=False))\n",
    "save_options = tf.saved_model.SaveOptions(save_debug_info=True)\n",
    "tf.print(\"Exporting SavedModel to %s\" % saved_model_dir)\n",
    "tf.saved_model.save(inference_module, saved_model_dir, options=save_options)"
   ]
  },
  {
   "cell_type": "markdown",
   "metadata": {
    "colab_type": "text",
    "id": "nZdVUd_dgTtc"
   },
   "source": [
    "# Compile and Execute MNIST Model using IREE"
   ]
  },
  {
   "cell_type": "code",
   "execution_count": 8,
   "metadata": {
    "colab": {
     "base_uri": "https://localhost:8080/",
     "height": 836
    },
    "colab_type": "code",
    "id": "rqwIx4j4gS1a",
    "outputId": "24cded90-c436-47ce-b4f4-7a5da46ea38a"
   },
   "outputs": [
    {
     "name": "stdout",
     "output_type": "stream",
     "text": [
      "Imported MLIR:\n",
      " \n",
      "\n",
      "module attributes {tf.versions = {bad_consumers = [], min_consumer = 12 : i32, producer = 175 : i32}} {\n",
      "  flow.variable @\"__iree_flow___sm_node14__model.layer-1.kernel\" opaque<\"\", \"0xDEADBEEF\"> : tensor<784x128xf32> attributes {sym_visibility = \"private\"}\n",
      "  flow.variable @\"__iree_flow___sm_node15__model.layer-1.bias\" opaque<\"\", \"0xDEADBEEF\"> : tensor<128xf32> attributes {sym_visibility = \"private\"}\n",
      "  flow.variable @\"__iree_flow___sm_node20__model.layer-2.kernel\" opaque<\"\", \"0xDEADBEEF\"> : tensor<128x10xf32> attributes {sym_visibility = \"private\"}\n",
      "  flow.variable @\"__iree_flow___sm_node21__model.layer-2.bias\" dense<[-0.0994331315, 0.144458607, -0.0583594479, -0.0319002904, -0.0134566138, 0.225791931, -0.00439708494, 0.0576024204, -0.238841608, 0.0185351353]> : tensor<10xf32> attributes {sym_visibility = \"private\"}\n",
      "  func @predict(%arg0: tensor<1x28x28x1xf32> {tf._user_specified_name = \"x\"}) -> tensor<1x10xf32> attributes {iree.module.export, iree.reflection = {abi = \"sip\", abiv = 1 : i32, sip = \"I8!S5!k0_0R3!_0\"}, tf._input_shapes = [#tf.shape<1x28x28x1>, #tf.shape<*>, #tf.shape<*>, #tf.shape<*>, #tf.shape<*>], tf.signature.is_stateful} {\n",
      "    %0 = flow.variable.address @\"__iree_flow___sm_node14__model.layer-1.kernel\" : !iree.ptr<tensor<784x128xf32>>\n",
      "    %1 = flow.variable.address @\"__iree_flow___sm_node15__model.layer-1.bias\" : !iree.ptr<tensor<128xf32>>\n",
      "    %2 = flow.variable.address @\"__iree_flow___sm_node20__model.layer-2.kernel\" : !iree.ptr<tensor<128x10xf32>>\n",
      "    %3 = flow.variable.address @\"__iree_flow___sm_node21__model.layer-2.bias\" : !iree.ptr<tensor<10xf32>>\n",
      "    %4 = mhlo.constant opaque<\"\", \"0xDEADBEEF\"> : tensor<1x128xf32>\n",
      "    %5 = mhlo.constant dense<0xFF800000> : tensor<f32>\n",
      "    %6 = mhlo.constant dense<0.000000e+00> : tensor<f32>\n",
      "    %7 = flow.variable.load.indirect %3 : !iree.ptr<tensor<10xf32>> -> tensor<10xf32>\n",
      "    %8 = flow.variable.load.indirect %2 : !iree.ptr<tensor<128x10xf32>> -> tensor<128x10xf32>\n",
      "    %9 = flow.variable.load.indirect %1 : !iree.ptr<tensor<128xf32>> -> tensor<128xf32>\n",
      "    %10 = flow.variable.load.indirect %0 : !iree.ptr<tensor<784x128xf32>> -> tensor<784x128xf32>\n",
      "    %11 = \"mhlo.reshape\"(%arg0) : (tensor<1x28x28x1xf32>) -> tensor<1x784xf32>\n",
      "    %12 = \"mhlo.dot\"(%11, %10) : (tensor<1x784xf32>, tensor<784x128xf32>) -> tensor<1x128xf32>\n",
      "    %13 = \"mhlo.broadcast_in_dim\"(%9) {broadcast_dimensions = dense<1> : tensor<1xi64>} : (tensor<128xf32>) -> tensor<1x128xf32>\n",
      "    %14 = mhlo.add %12, %13 : tensor<1x128xf32>\n",
      "    %15 = mhlo.maximum %14, %4 : tensor<1x128xf32>\n",
      "    %16 = \"mhlo.dot\"(%15, %8) : (tensor<1x128xf32>, tensor<128x10xf32>) -> tensor<1x10xf32>\n",
      "    %17 = \"mhlo.broadcast_in_dim\"(%7) {broadcast_dimensions = dense<1> : tensor<1xi64>} : (tensor<10xf32>) -> tensor<1x10xf32>\n",
      "    %18 = mhlo.add %16, %17 : tensor<1x10xf32>\n",
      "    %19 = \"mhlo.reduce\"(%18, %5) ( {\n",
      "    ^bb0(%arg1: tensor<f32>, %arg2: tensor<f32>):  // no predecessors\n",
      "      %26 = mhlo.maximum %arg1, %arg2 : tensor<f32>\n",
      "      \"mhlo.return\"(%26) : (tensor<f32>) -> ()\n",
      "    }) {dimensions = dense<1> : tensor<1xi64>} : (tensor<1x10xf32>, tensor<f32>) -> tensor<1xf32>\n",
      "    %20 = \"mhlo.broadcast_in_dim\"(%19) {broadcast_dimensions = dense<0> : tensor<1xi64>} : (tensor<1xf32>) -> tensor<1x10xf32>\n",
      "    %21 = mhlo.subtract %18, %20 : tensor<1x10xf32>\n",
      "    %22 = \"mhlo.exponential\"(%21) : (tensor<1x10xf32>) -> tensor<1x10xf32>\n",
      "    %23 = \"mhlo.reduce\"(%22, %6) ( {\n",
      "    ^bb0(%arg1: tensor<f32>, %arg2: tensor<f32>):  // no predecessors\n",
      "      %26 = mhlo.add %arg1, %arg2 : tensor<f32>\n",
      "      \"mhlo.return\"(%26) : (tensor<f32>) -> ()\n",
      "    }) {dimensions = dense<1> : tensor<1xi64>} : (tensor<1x10xf32>, tensor<f32>) -> tensor<1xf32>\n",
      "    %24 = \"mhlo.broadcast_in_dim\"(%23) {broadcast_dimensions = dense<0> : tensor<1xi64>} : (tensor<1xf32>) -> tensor<1x10xf32>\n",
      "    %25 = mhlo.divide %22, %24 : tensor<1x10xf32>\n",
      "    return %25 : tensor<1x10xf32>\n",
      "  }\n",
      "}\n",
      "Wrote MLIR to path '/home/martin/saved_models/mnist.mlir'\n"
     ]
    }
   ],
   "source": [
    "#@title Load the SavedModel into IREE's compiler as MLIR mhlo\n",
    "\n",
    "compiler_module = ireec.tf_load_saved_model(\n",
    "    saved_model_dir, exported_names=[\"predict\"])\n",
    "tf.print(\"Imported MLIR:\\n\", compiler_module.to_asm(large_element_limit=100))\n",
    "\n",
    "# Write to a file for use outside of this notebook.\n",
    "mnist_mlir_path = os.path.join(SAVE_PATH, \"mnist.mlir\")\n",
    "with open(mnist_mlir_path, \"wt\") as output_file:\n",
    "  output_file.write(compiler_module.to_asm())\n",
    "print(\"Wrote MLIR to path '%s'\" % mnist_mlir_path)"
   ]
  },
  {
   "cell_type": "code",
   "execution_count": 9,
   "metadata": {
    "colab": {
     "base_uri": "https://localhost:8080/",
     "height": 51
    },
    "colab_type": "code",
    "id": "IDHI7h3khJr9",
    "outputId": "b8958b7f-c7bb-4fbd-b800-e58c46134086"
   },
   "outputs": [
    {
     "name": "stderr",
     "output_type": "stream",
     "text": [
      "Created IREE driver llvm: <pyiree.rt.binding.HalDriver object at 0x7f597402b270>\n",
      "SystemContext driver=<pyiree.rt.binding.HalDriver object at 0x7f597402b270>\n"
     ]
    }
   ],
   "source": [
    "#@title Compile the mhlo MLIR and prepare a context to execute it\n",
    "\n",
    "# Compile the MLIR module into a VM module for execution\n",
    "flatbuffer_blob = compiler_module.compile(target_backends=[backend_name])\n",
    "vm_module = ireert.VmModule.from_flatbuffer(flatbuffer_blob)\n",
    "\n",
    "# Register the module with a runtime context\n",
    "config = ireert.Config(driver_name)\n",
    "ctx = ireert.SystemContext(config=config)\n",
    "ctx.add_module(vm_module)"
   ]
  },
  {
   "cell_type": "code",
   "execution_count": 10,
   "metadata": {
    "colab": {
     "base_uri": "https://localhost:8080/",
     "height": 102
    },
    "colab_type": "code",
    "id": "SKflpnLtkLYE",
    "outputId": "337ddf79-6746-4685-89f5-65787280c0af"
   },
   "outputs": [
    {
     "name": "stdout",
     "output_type": "stream",
     "text": [
      "tf times:\n"
     ]
    },
    {
     "name": "stdout",
     "output_type": "stream",
     "text": [
      "0.002015587997448165,0.0014762419996259268,0.0013812260003760457,0.002158347997465171,0.0019598229991970584,0.0013332790003914852,0.0019095669995294884,0.0015609440015396103,0.0013955119975435082,0.0011926350016437937,0.0030408759994315915,0.001327369001955958,0.0011404850010876544,0.0015335749994846992,0.001032894000672968,0.0009173719990940299,0.0007963530006236397,0.0009046960003615823,0.0013472129976435099,0.0018602250020194333,0.0012026190015603788,0.001308537001023069,0.0014813679990766104,0.0011812740012828726,0.0008064329995249864,0.0007369010018010158,0.0007766399976389948,0.000782268001785269,0.0007895009985077195,0.0008394789983867668,0.0009183529982692562,0.0007183620000432711,0.0007019949989626184,0.0007767489987600129,0.0007666440033062827,0.0007917900002212264,0.0007211010015453212,0.0010042120011348743,0.0015190269987215288,0.001475052002206212,0.001583380999363726,0.002487096000550082,0.0017364810009894427,0.0017659439981798641,0.0014997800026321784,0.0022101419999671634,0.00209569599974202,0.0017413770001439843,0.0008383160020457581,0.000791082999057835,0.0010127819987246767,0.0008893470003386028,0.0014084359972912353,0.0013575470002251677,0.0007976800006872509,0.0008193450012186076,0.0008337709987245034,0.001032743999530794,0.002435690999845974,0.001086091000615852,0.0009322170008090325,0.0008917029990698211,0.000924683001358062,0.0007140890011214651,0.0007441779998771381,0.0009757469997566659,0.0008699810023244936,0.0008770360000198707,0.0011355959977663588,0.0016376210005546454,0.0013731440012634266,0.0011659990013868082,0.0010505819991522003,0.0010326209994673263,0.0008192499990400393,0.0010710249989642762,0.0010280349997628946,0.0010187629995925818,0.0007942919983179308,0.0009523850021651015,0.0010884210023505148,0.0011880359998031054,0.0015640550009266008,0.00123163799798931,0.001320513001701329,0.0009503579967713449,0.0007428369972330984,0.0006899909967614803,0.0008174860013241414,0.0009179250009765383,0.00098126500233775,0.0009552050032652915,0.0007799300001352094,0.0007388369995169342,0.0007892020003055222,0.0007931959989946336,0.0007703709998168051,0.0007637820017407648,0.0009998980021919124,0.0008034439997572917,0.0013509450000128709,0.0016950770004768856,0.001476458000979619,0.001616244000615552,0.0007752800011076033,0.0011615699986577965,0.001695332997769583,0.0011094510009570513,0.0008917320010368712,0.0011904259990842547,0.0010516520014789421,0.0022276759991655126,0.0020110980003664736,0.0011877520009875298,0.0008759269985603169,0.0007723349990556017,0.0007069650018820539,0.000727864997315919,0.0006745259997842368,0.0006718120021105278,0.0007966240009409375,0.0010663879984349478,0.0009146810007223394,0.0008851000020513311,0.0012679800020123366,0.0009526809990347829,0.0007896970018919092,0.0008333340010722168,0.0007699749985476956,0.0008318220025103074,0.0007621820004715119,0.0008368480011995416,0.0010508099985599983,0.0008542169998690952,0.0007859460019972175,0.0007463880028808489,0.0007409890022245236,0.0007612829977006186,0.0011293460011074785,0.0012133460004406516,0.0015361980003945064,0.00156999500177335,0.0016749169990362134,0.0018858330004150048,0.0014543159995810129,0.0010894719998759683,0.001198573998408392,0.0011630289991444442,0.0007334429974434897,0.0007220019979286008,0.0007072020016494207,0.000706046001141658,0.0007689180019951891,0.000840115000755759,0.0008560720016248524,0.0006871309997222852,0.0008833960018819198,0.0009592720016371459,0.0007631340013176668,0.0007626420010637958,0.0008330950004165061,0.0007811510004103184,0.0009375580011692364,0.0009302940015913919,0.0007782139982737135,0.0008500180010742042,0.0007926470025267918,0.0007636849986738525,0.0007202269989647903,0.0007413409985019825,0.0007093120002537034,0.000902264000615105,0.0011913810012629256,0.001177678001113236,0.0009521700012555812,0.0015621060010744259,0.0020957119995728135,0.0019616009994933847,0.0033187520020874217,0.0015136479996726848,0.0009221090003848076,0.0007671839994145557,0.0012024050010950305,0.0013800160013488494,0.0010109709983225912,0.0008911639997677412,0.000863072997162817,0.001036559999192832,0.0009988639976654667,0.0011093930006609298,0.0015194420011539478,0.0009072619977814611,0.0007885759987402707,0.0008562879993405659,0.0007455429986293893,0.0008317280007759109,0.0009977599984267727,0.001977339998120442,0.0016558129973418545,0.0015818859974388033,0.000871422998898197,0.0009885409999697004,0.0008070109979598783,0.000754976997995982,0.0008966319983301219,0.0008129460002237465,0.0008350860007340088,0.0006995910007390194,0.0007249090012919623,0.0006844199997431133,0.0008974070005933754,0.0011171370024385396,0.0009513990007690154,0.0008424289990216494,0.0008000929992704187,0.0007672160027141217,0.0008175719995051622,0.0008070580006460659,0.0008444099985354114,0.000911303999600932,0.000913361000129953,0.0012403049986460246,0.0014612049999414012,0.0015465599972230848,0.0010306229996785987,0.001169174000096973,0.0011791460019594524,0.001041028997860849,0.001272624998819083,0.0010393180018581916,0.0009914740003296174,0.0008219589981308673,0.000818993998109363,0.0007393570012936834,0.0007909750020189676,0.0009547319968987722,0.00129774500237545,0.001754164997691987,0.0013349680011742748,0.0012270299994270317,0.0008808099992165808,0.0008570569989387877,0.000897652000276139,0.0007642000018677209,0.0007107669989636634,0.0007023350008239504,0.001088111999706598,0.0008810100007394794,0.0007697010005358607,0.0007803449989296496,0.0007454270016751252,0.0007337620008911472,0.0007042840006761253,0.0007318929965549614,0.0007131220008886885,0.0006688909998047166,0.0012400699997670017,0.00089677899813978,0.0007595210008730646,0.0007927539991214871,0.0007498039994970895,0.0007277900003828108,0.0007035559974610806,0.0008218960028898437,0.0008110100025078282,0.0010217560011369642,0.0010666710004443303,0.0012074780024704523,0.0015805809998710174,0.001838013999076793,0.0011877920005645137,0.0013388200022745878,0.0009144619980361313,0.0008700850012246519,0.000808963999588741,0.0006961629987927154,0.0007303120000869967,0.0007413359999191016,0.0007063079974614084,0.0007242859974212479,0.0007032489993434865,0.000978828000370413,0.0007258749974425882,0.0007915109999885317,0.0007894980008131824,0.000835842001833953,0.0007657469977857545,0.0008589940007368568,0.0008219430019380525,0.000854224999784492,0.0010870520018215757,0.0010090720024891198,0.0008017450018087402,0.0009297699980379548,0.0009626999999454711,0.000985773000138579,0.0009017910015245434,0.0010298320012225304,0.0014139269987936132,0.001226757998665562,0.0011247450020164251,0.0008923040004447103,0.0008978029982245062,0.0009681200026534498,0.0016224889986915514,0.00115643800018006,0.0013286819994391408,0.000823796999611659,0.0007456349994754419,0.000715543999831425,0.0007019590011623222,0.0008667330002936069,0.0009456120023969561,0.0007815780008968432,0.0007408550009131432,0.0007353049986704718,0.0008652979995531496,0.0008026089999475516,0.000739763996534748,0.0007263270017574541,0.0007511279982281849,0.0007141880014387425,0.0007290440007636789,0.0007516529985878151,0.0007089210012054536,0.0007951049992698245,0.0007507999980589375,0.0008254849999502767,0.0006986190019233618,0.0006908239993208554,0.0008026529976632446,0.0008562389994040132,0.0009586389969626907,0.0008267289995274041,0.0009187610012304503,0.001121928002248751,0.001178285001515178,0.0009149039979092777,0.0010397000005468726,0.0010329899996577296,0.0012787440027750563,0.001663643997744657,0.0011761220011976548,0.0010181540019402746,0.0010944889982056338,0.0010258229995088186,0.0008361109976249281,0.0007902040015324019,0.0007513880009355489,0.0008542180003132671,0.0007541869999840856,0.0007777940008963924,0.0008401310005865525,0.0008225340025092009,0.0008177060008165427,0.0007397629997285549,0.0008099389997369144,0.0008290340010717046,0.0007354219997068867,0.0007124630028556567,0.0006808230027672835,0.0007642549971933477,0.000891362000402296,0.0010286139986419585,0.0007654840010218322,0.0007744340000499506,0.0008601480003562756,0.0009234420031134505,0.0009312600013799965,0.001026763999107061,0.0008642690008855425,0.0009285859996452928,0.0009176059975288808,0.0008775009991950355,0.0012191339992568828,0.0017328700014331844,0.0018334550004510675,0.0013507039984688163,0.0012142029991082381,0.0010291149992553983,0.000902990999747999,0.0008552330000384245,"
     ]
    },
    {
     "name": "stdout",
     "output_type": "stream",
     "text": [
      "0.0023397839977405965,0.0010815669993462507,0.0011194629987585358,0.0011096240014012437,0.0012634410013561137,0.0009616679999453481,0.0007916210015537217,0.0007486230024369434,0.0008262789997388609,0.000765649998356821,0.0007862949969421607,0.0008091050003713463,0.001011928998195799,0.0011117629983345978,0.0008880260029400233,0.0008382980013266206,0.0016144109977176413,0.0014851319974695798,0.0015844439985812642,0.0014712259981024545,0.00103183100145543,0.0008330290002049878,0.000815906998468563,0.0009748170014063362,0.0008607720010331832,0.0007927200022095349,0.0009943459990608972,0.0008921310000005178,0.0008068310016824398,0.000782119001087267,0.0007753060017421376,0.0008499979994667228,0.0008949419971031602,0.001258011001482373,0.0015606600027240347,0.002075784999760799,0.0019177579997631256,0.0016213310009334236,0.0014809379972575698,0.0012348230011411943,0.0008724459985387512,0.0006689649999316316,0.0014950040022085886,0.0011099149996880442,0.0017931969996425323,0.0023799619993951637,0.0011131100000056904,0.0016769909998402,0.0012500330012699123,0.00183610399835743,0.0016409000018029474,0.0011125780001748353,0.0011407750025682617,0.0015024720014480408,0.001126632996601984,0.0007890750021033455,0.0007494450001104269,0.0007639249997737352,0.0008690360009495635,0.000735565998184029,0.0007598310003231745,0.0009714890002214815,0.0008030049975786824,0.000954426999669522,0.0008249999991676304,0.000956105999648571,0.0008619400032330304,0.0008584989991504699,0.0008072269993135706,0.0009616370007279329,0.0009392760002810974,0.0009750050012371503,0.0008688449997862335,0.0011016329990525264,0.0009363010030938312,0.0010261179995723069,0.0009375480003654957,0.0009153579994745087,0.000937770997552434,0.000956905001658015,0.0010580069974821527,0.001182142998004565,0.0009931839995260816,0.0009048840001923963,0.0010625889990478754,0.00081850099741132,0.0007809910021023825,0.0007609650019730907,0.0007604099992022384,0.0008203090001188684,0.0008260350005002692,0.0007591360008518677,0.0008030349999899045,0.0011473390004539397,0.0007871849993534852,0.0006809350015828386,0.0007451099991158117,0.0008314299993799068,0.0009221420004905667,0.000941392998356605,0.001074610001523979,0.0016120619984576479,0.0010943460001726635,0.0009471539997321088,0.0009540020000713412,0.0007832010014681146,0.0008202580029319506,0.001176949001091998,0.0011746320014935918,0.0011492150006233715,0.000937955999688711,0.0007833279996702913,0.0007438549982907716,0.0007896330025687348,0.0009492830031376798,0.001342586001555901,0.0015433240005222615,0.001179324997792719,0.0015267439994204324,0.0011913350026588887,0.0013661590019182768,0.0008076320009422489,0.0006923619985172991,0.0009009170025819913,0.0008309590011776891,0.0007246829991345294,0.0008203060024243314,0.0007311539993679617,0.0007476040009350982,0.0007566720014438033,0.000710774002072867,0.0007097050001902971,0.0007363750009972136,0.0008878109983925242,0.0008276650005427655,0.0008202550015994348,0.0008000870002433658,0.000791573002061341,0.0007014369984972291,0.0006917060018167831,0.000732478998543229,0.0006772699998691678,0.0007265569984156173,0.0009099519993469585,0.001309758001298178,0.0009125549986492842,0.0008564279996789992,0.001203268999233842,0.001046667999617057,0.0009794239995244425,0.001537627998914104,0.0010451679991092533,0.0008138250013871584,0.000837255000078585,0.0007960220027598552,0.0008069640025496483,0.0009142749986494891,0.0007448290016327519,0.0007285760002559982,0.000705933001881931,0.0007637909984623548,0.0007366649988398422,0.00069754899959662,0.0008092360003502108,0.0006872119993204251,0.00081677900016075,0.0008019369997782633,0.000729805000446504,0.0006897040002513677,0.0006802070020057727,0.0006724670020048507,0.0006798979993618559,0.0007132270002330188,0.0007094270004017744,0.0006928500006324612,0.0006877259984321427,0.0007299880016944371,0.000969107000855729,0.0007439580003847368,0.0007542550010839477,0.0007982239985722117,0.0009947420003300067,0.0007918129995232448,0.0010276909997628536,0.0007773119978082832,0.0009656519978307188,0.0010331099983886816,0.001604500001121778,0.0015607249988534022,0.001219503999891458,0.0015255869984684978,0.0012588780009537004,0.0012797000017599203,0.0007805599998391699,0.0007445890005328692,0.0007850059992051683,0.0007126359996618703,0.0009112570005527232,0.0007416820008074865,0.0008765700004005339,0.0007645209989277646,0.0012478839998948388,0.0011269930000707973,0.0013215549988672137,0.00103590600338066,0.0008461420002277009,0.000818232998426538,0.0008700210019014776,0.0008919649990275502,0.0009690490005596075,0.000741280000511324,0.0008198350005841348,0.0008508140017511323,0.0012031120022584219,0.00106683299964061,0.0011065379985666368,0.0010747899978014175,0.0012283240030228626,0.0011895070019818377,0.0010571799975878093,0.0007961109986354131,0.0007794189987180289,0.0009157019994745497,0.0009061849996214733,0.0007369939994532615,0.0008371300027647521,0.0006974200005060993,0.0007533349998993799,0.0009749949967954308,0.0011022079997928813,0.000995186001091497,0.0012375990008877125,0.0016053229992394336,0.0019451269981800579,0.0012682289998338092,0.0010643860005075112,0.0010694110023905523,0.001072974999260623,0.0011401889969420154,0.0007282219994522166,0.0007608209998579696,0.000708712002960965,0.000845604001369793,0.0007748960015305784,0.0010100850013259333,0.0010278100016876124,0.0011725200020009652,0.0008417399985773955,0.0008092899988696445,0.0007698110021010507,0.0010882850001507904,0.0017407930026820395,0.0012024799980281387,0.000902571999176871,0.000992207002127543,0.0008489909996569622,0.0007688420009799302,0.0007129299992811866,0.0008329170013894327,0.0008796990005066618,0.0012620669986063149,0.0008839350011839997,0.0008158719974744599,0.000940010002523195,0.0007886569983384106,0.0006894939979247283,0.0006812100000388455,0.0006841340000391938,0.0006942779982637148,0.0006670680013485253,0.0009687509991636034,0.0007466260030923877,0.0007213560020318255,0.0010745510007836856,0.0008920649997889996,0.000810492998425616,0.0008195709997380618,0.0008069039977272041,0.0008833589999994729,0.0011871429996972438,0.0015606470005877782,0.001221482001710683,0.0008014970007934608,0.0007088430029398296,0.0007024690021353308,0.000682908997987397,0.0009958570008166134,0.0011335670023981947,0.0007098390015016776,0.000676160998409614,0.0007082490010361653,0.0006834539999545086,0.0006866709991300013,0.0007180120010161772,0.0008047800001804717,0.000861999000335345,0.00103488000240759,0.0009080050003831275,0.0007688009973207954,0.0007506939982704353,0.0007747620002191979,0.000800614998297533,0.0011742390015569981,0.0012733710027532652,0.001124828999309102,0.0009288090004702099,0.0008222930009651463,0.0009036629999172874,0.0007720370012975764,0.0008030889985093381,0.0008426019994658418,0.0009748949996719602,0.001127988001826452,0.0008772080000198912,0.0009628359985072166,0.0009660299983806908,0.0008435390009253751,0.0009453610000491608,0.0010058290026790928,0.0009204120033245999,0.0009843510015343782,0.0014506930019706488,0.0015798319982422981,0.001390713998262072,0.0009533310003462248,0.0008514239998476114,0.0009638089977670461,0.0008121519967971835,0.0007634419998794328,0.0007518369966419414,0.0006900609987496864,0.0007045209968055133,0.0007518330021412112,0.0006659030004811939,0.0007567139982711524,0.0006662519990641158,0.0007349910010816529,0.0007945090001157951,0.0007266899992828257,0.0006889099968248047,0.0007554240000899881,0.0007623780002177227,0.0007733780003036372,0.0007347580030909739,0.0007402439987345133,0.0007756710001558531,0.0007606940016557928,0.0007576249990961514,0.0007106470002327114,0.0007483449990104418,0.0008047119990806095,0.0008416899981966708,0.0013300160026119556,0.0014973460019973572,0.0011614140021265484,0.0010068279989354778,0.0007485979986086022,0.0007286059990292415,0.0007284610001079272,0.0008456970026600175,0.0008354359997611027,0.0008158700002240948,0.0008282350027002394,0.0008413030009251088,0.0008746479979890864,0.000843277000967646,0.0008347809998667799,0.0008176670016837306,0.0008154009992722422,0.0008303600006911438,0.0009344199970655609,0.0009124530006374698,0.0008365799985767808,0.0017723339988151565,0.0015015280005172826,0.0014724800021213014,0.0010823869997693691,0.0008156120020430535,0.0007315599978028331,0.0008340189997397829,0.0008309570002893452,0.0007259920021169819,0.0007042360011837445,0.0007711340003879741,0.0007362979995377827,0.0007481310021830723,0.0007045839993224945,0.0007895060007285792,0.0010552549974818248,0.0012085410016879905,0.0012493569993239362,0.0010812680011440534,0.0009460050023335498,0.001249132001248654,0.0015691379994677845,0.0014490030007436872,0.0011011210008291528,0.0008950050032581203,"
     ]
    },
    {
     "name": "stdout",
     "output_type": "stream",
     "text": [
      "0.0010386009998910595,0.0009405429991602432,0.0009233040000253823,0.0009345079997729044,0.0009133800012932625,0.0008686539986229036,0.0008169790016836487,0.001186337998660747,0.000900282000657171,0.000752034000470303,0.0007321840021177195,0.0007189600000856444,0.0009917220013448969,0.0009008870001707692,0.0008324709997395985,0.0007344359983108006,0.0007501749969378579,0.0007059929994284175,0.000714395002432866,0.0007668109974474646,0.0007174920028774068,0.0008247810001194011,0.0008383820022572763,0.0011323649996484164,0.0012932300014654174,0.0015072170026542153,0.0009867789995041676,0.0007310059991141316,0.0007594659982714802,0.000731751999410335,0.0008654920020489953,0.0007386060024145991,0.0008130839996738359,0.0007463059992005583,0.0007460369997716043,0.0008029950004129205,0.000710394000634551,0.0009617719988455065,0.0006973420022404753,0.000683628000842873,0.0006877609994262457,0.0006781040028727148,0.0009324499987997115,0.000720733998605283,0.0008814070024527609,0.0008954989971243776,0.0011831239971797913,0.001703181998891523,0.00146899099854636,0.0014775990021007601,0.000982411002041772,0.0008853510007611476,0.0008367420014110394,0.0007562950013380032,0.0007956749977893196,0.0007759800027997699,0.000858497998706298,0.0008918060011637863,0.0012349669996183366,0.001061539998772787,0.0013623320010083262,0.0010146649983653333,0.0009021740006573964,0.0009553199997753836,0.0014377820007211994,0.0014818180025031324,0.001105154999095248,0.0008068960014497861,0.0008384280008613132,0.0007834639982320368,0.00077739200060023,0.0006938660008017905,0.0008044450005399995,0.0007772579992888495,0.0007991789971129037,0.0008274070023617242,0.0007217799975478556,0.0007039319971227087,0.000733734999812441,0.0006924989975232165,0.0006879430002300069,0.0006902749992150348,0.000696897001034813,0.0007620519972988404,0.000698200998158427,0.0007026769999356475,0.000777197001298191,0.0007645239966223016,0.0008851679995132145,0.001102598998841131,0.0007210139992821496,0.0006508529986604117,0.0006964900021557696,0.0008165360013663303,0.0008824889991956297,0.0007312269990507048,0.0010449399997014552,0.001039609000144992,0.0009037889976752922,0.0008713739989616442,0.0006760100004612468,0.0007620389988005627,0.0008098129983409308,0.0008219709998229519,0.000829896998766344,0.0008778720002737828,0.0009006420004880056,0.0006859489985799883,0.000690953998855548,0.0007651489977433812,0.0007577040014439262,0.0008054009995248634,0.0007406449985865038,0.000724386001820676,0.0006742570003552828,0.0010070780008391012,0.0008289659999718424,0.0008765249986026902,0.001133903002482839,0.0014488640008494258,0.0009260010010621045,0.001044832999468781,0.0015038290002848953,0.0013594720003311522,0.0010050300006696489,0.0008968330002971925,0.0008868369986885227,0.0008607939998910297,0.0008573160012019798,0.0010002529998018872,0.0014031930004421156,0.0012201680001453497,0.0009742670008563437,0.0011530400006449781,0.0011121959978481755,0.0009071219974430278,0.0008976749995781574,0.0012623510010598693,0.0017350600028294139,0.0011929800020880066,0.0010256610003125388,0.0010859430003620218,0.001127991999965161,0.0007910569984233007,0.0007344320001720916,0.0007473090008716099,0.0007258539990289137,0.0006989469984546304,0.0008355469981324859,0.0008359070016012993,0.0007957749985507689,0.0009936389978975058,0.0008289159995911177,0.0008241729992732871,0.0007617369992658496,0.0008291650010505691,0.0006907979986863211,0.0006751770015398506,0.0007473510013369378,0.0007559149998996872,0.0007015560004219878,0.0008507819984515663,0.0008276629996544216,0.0008612160017946735,0.0007146530006139074,0.0009254569995391648,0.0007927910010039341,0.0009560369981045369,0.0007296629992197268,0.000717795999662485,0.0007343670004047453,0.0006759470015822444,0.0008584599963796791,0.0007333440007641912,0.0007141480018617585,0.0006919939987710677,0.0006751550026820041,0.0006761150034435559,0.0006744689999322873,0.0006588579999515787,0.0006637039987253956,0.0008416529999522027,0.0008558749977964908,0.0006971980001253542,0.0007425690018862952,0.0007314529975701589,0.0007438639986503404,0.0009361030024592765,0.0008525759985786863,0.0009463189999223687,0.0010791219974635169,0.001298933999350993,0.0016401409993704874,0.0012311870013945736,0.0011708149977494031,0.00128359800146427,0.0011754090010072105,0.0007185610011219978,0.0007539899997937027,0.0008578499982832,0.001657089997024741,0.0008301130001200363,0.000735830999474274,0.0012195560011605266,0.000984393001999706,0.0012612199971044902,0.0009506740025244653,0.0009813719989324454,0.0011960270021518227,0.0017704519996186718,0.0010754289978649467,0.0007551550006610341,0.0007399679998343345,0.000873290999152232,0.0011128639998787548,0.0010616190011205617,0.0016629420024401043,0.0009571650007274002,0.0009131410006375518,0.0007988600009412039,\n",
      "iree times:\n"
     ]
    },
    {
     "name": "stdout",
     "output_type": "stream",
     "text": [
      "0.0002932580027845688,0.00014177300181472674,0.00013679499897989444,0.0001333840009465348,0.00013895300071453676,0.00013055399904260412,0.00012296299973968416,0.0001155419995484408,0.00011469000310171396,0.0001140650019806344,0.00011418900248827413,0.0001321419986197725,0.00014530900079989806,0.0001578149967826903,0.00015473399980692193,0.00014988600014476106,0.00015149299724726006,0.00014992000069469213,0.00014260199895943515,0.00013972099986858666,0.00013933800073573366,0.0001446189999114722,0.00015420400086441077,0.00014597400149796158,0.0001545589984743856,0.00018784100029733963,0.00017390799985150807,0.00015462499868590385,0.00018056100088870153,0.00018217799879494123,0.00018125299902749248,0.0002216950015281327,0.00018428199837217107,0.00017755199951352552,0.00016282299839076586,0.00016194999989238568,0.00015870100105530582,0.00015772900223964825,0.00015807800082257017,0.00016248099927906878,0.0002273739992233459,0.00015866300236666575,0.0001559410011395812,0.00016647799930069596,0.00016194899944821373,0.00017498899978818372,0.00023391799913952127,0.0002076580021821428,0.0001841769990278408,0.00017832700177677907,0.00017757699970388785,0.0001754770019033458,0.00016996499834931456,0.00016933200095081702,0.000162852000357816,0.00016143700122484006,0.00022556399926543236,0.00017770099657354876,0.00017614099851925857,0.00017030300296028145,0.0001692850019026082,0.00016663199858157896,0.00016841099932207726,0.0003587669998523779,0.00018643899966264144,0.00016653700004098937,0.00018628700127010234,0.00025529099730192684,0.00029608499971800484,0.0002089709996653255,0.0001890639978228137,0.00017679300071904436,0.0001732279997668229,0.00017436600319342688,0.00017080299949157052,0.00016118399798870087,0.00016626500291749835,0.00032772099802969024,0.00018495000040275045,0.0001816340009099804,0.0001744660003168974,0.00018249800268677063,0.0001707619994704146,0.0001705430004221853,0.00016882600175449625,0.00018166300287703052,0.00019081500067841262,0.00017722800112096593,0.0001710659998934716,0.00017139999908977188,0.00016010999752325006,0.00015938300202833489,0.00016857499940670095,0.00016105400209198706,0.0001596550027898047,0.00016583799879299477,0.00016740999853936955,0.0001595150024513714,0.00015859600171097554,0.0002117889998771716,0.00018825900042429566,0.00018599100076244213,0.00020770099945366383,0.00015451099898200482,0.0001542959980724845,0.00015023400192148983,0.00014957399980630726,0.00014868600192130543,0.00016472900097141974,0.00023773099746904336,0.00022886199803906493,0.000162776999786729,0.00016622800103505142,0.00016793800023151562,0.0001597660011611879,0.00015067599815665744,0.00015014900054666214,0.00015731399980722927,0.00015139899915084243,0.0001520690020697657,0.00015087800056790002,0.00014944800204830244,0.00015001100109657273,0.00015446699762833305,0.00015096800052560866,0.00015014700329629704,0.00017303099957644008,0.0001519940014986787,0.0001505780019215308,0.0001512689996161498,0.0001868049985205289,0.00016234400027315132,0.00015270899893948808,0.00015610799891874194,0.00015257700215443037,0.00016126999980770051,0.00016058199980761856,0.00016400599997723475,0.00015877699843258597,0.00020523900093394332,0.00018328100122744218,0.00020553899958031252,0.00023470599990105256,0.000267210001766216,0.0002072609968308825,0.00022791400260757655,0.00021329799710656516,0.00034854800105676986,0.0006740249991707969,0.0002601809974294156,0.0002003109984798357,0.00020990600023651496,0.00022942999930819497,0.0001989779993891716,0.00018684600217966363,0.0001807689986890182,0.00016887900346773677,0.00019002399858436547,0.00016964600217761472,0.00016798499927972443,0.00017442900207242928,0.0001607390004210174,0.00016842700279084966,0.00020707599833258428,0.00017178000052808784,0.00016916599997784942,0.00016754400348872878,0.00016925399904721417,0.00016768099885666743,0.00016646099902573042,0.0001591930013091769,0.00019187900034012273,0.00020421799854375422,0.00021618100072373636,0.00024328300060005859,0.00021336099962354638,0.00015212200014502741,0.0001759509978001006,0.00014168800043989904,0.00014860499868518673,0.0001223010003741365,0.00012784499995177612,0.0001269630010938272,0.00015925700063235126,0.00016655000217724591,0.00016404699999839067,0.00014956999802961946,0.00019120300203212537,0.00018851399727282114,0.000175244000274688,0.000211544000194408,0.00016369199875043705,0.0001535379997221753,0.00013177499931771308,0.00013009900067117997,0.00012505600170698017,0.0001330880004388746,0.0001240540004801005,0.00011836900011985563,0.00014753800132893957,0.00016440300169051625,0.00015995500143617392,0.00015854600133025087,0.00016304699965985492,0.00016585300181759521,0.00019926200184272602,0.000220694000745425,0.0001671089994488284,0.00015496400010306388,0.00013806199785904028,0.00012222700024722144,0.00015928999710013159,0.00016266199963865802,0.00016257500101346523,0.0004709630011348054,0.0003725810020114295,0.00016216799849644303,0.00020046800273121335,0.00017436000052839518,0.0001647690005484037,0.0002022320004471112,0.00016201499965973198,0.00014132199794403277,0.00012752399925375357,0.0001286370024899952,0.00012409799819579348,0.00012511000022641383,0.00011768399781431071,0.00012304199844948016,0.00016478199904668145,0.00013533499804907478,0.00015055599942570552,0.00013231499906396493,0.0001275729991903063,0.00012199599950690754,0.00012249900100869127,0.00012790699838660657,0.00011750699923140928,0.0001168509988929145,0.00012200199853396043,0.000143141998705687,0.00011719000031007454,0.00018523999824537896,0.0001271049986826256,0.00012838100155931897,0.00011957899914705195,0.00012459000208764337,0.0001329260012425948,0.00012666800103033893,0.0001239849989360664,0.00012039300054311752,0.00011922299745492637,0.0001170310024463106,0.00011662500037346035,0.00012767899897880852,0.00014190100046107545,0.000136467999254819,0.00015411099957418628,0.00015210900164674968,0.0001498300007369835,0.0001351020000583958,0.00012784000136889517,0.00012038999921060167,0.00011875700147356838,0.00012596099986694753,0.0001187230009236373,0.00011808100316557102,0.00011709300088114105,0.00011665499914670363,0.00011776500105042942,0.0001165550020232331,0.00011647100109257735,0.00011751299825846218,0.0001162289991043508,0.00011696499859681353,0.000116715000331169,0.00011800100037362427,0.00012418800179148093,0.00011775500024668872,0.0001163910019386094,0.00011735099906218238,0.00011687499863910489,0.000116561001050286,0.0001339819973509293,0.00012944600166520104,0.0001292829983867705,0.00015848300245124847,0.0001432270000805147,0.0001441830027033575,0.0001528939974377863,0.00014560100316884927,0.00014308400204754435,0.000154310000652913,0.00018048199854092672,0.00017515600120532326,0.00014831599764875136,0.00015913500101305544,0.00014645099872723222,0.00015959299707901664,0.00013895499796490185,0.000144093999551842,0.00015600100232404657,0.00014135600213194266,0.0001452409997000359,0.00014468100198428147,0.00013867799862055108,0.00015420999989146367,0.00014308200115920044,0.00014726800145581365,0.00014262799959396943,0.0001392759986629244,0.00014279799870564602,0.00013541500084102154,0.00014667099821963347,0.000158196002303157,0.00015682199955335818,0.0001503730018157512,0.00015492200327571481,0.00015411599815706722,0.00015864299712120555,0.00014328200268209912,0.00014342099893838167,0.00014645799819845706,0.00014582699805032462,0.00014752000060980208,0.0001497509983892087,0.0001330559971393086,0.00013174800187698565,0.0001394159990013577,0.00013420600225799717,0.00014213400208973326,0.00015984799756552093,0.00014094599828240462,0.00013297000259626657,0.00015613100185873918,0.00019918599718948826,0.00019957800031988882,0.0002009249983530026,0.00017414299873053096,0.00018149899915442802,0.00016676599989295937,0.00016716699974494986,0.00017920800019055605,0.00018791200272971764,0.00014999499762780033,0.00013193899940233678,0.00012966899885213934,0.00013614299678010866,0.00016528999913134612,0.00013254799705464393,0.00012927400166518055,0.00013307699919096194,0.0001288839994231239,0.00012829400293412618,0.00012830500054406002,0.00014465099957305938,0.000128262003272539,0.00012707000132650137,0.00012697599959210493,0.00014757199824089184,0.00016042399875004776,0.00014264600031310692,0.00017040699822246097,0.00016420600150013342,0.00015785600044182502,0.00016882400086615235,0.0001701139990473166,0.0001738820028549526,0.00018383499991614372,0.00018473999807611108,0.00017452899919589981,0.0003166960013913922,0.0002790850012388546,0.00023343199791270308,0.00021204100266913883,0.00021277700216160156,0.00021755000125267543,0.0001967489988601301,0.0001881870011857245,0.00021164599820622243,0.00021531600214075297,0.00018678600099519826,0.00017158599803224206,0.00016519500059075654,0.00017173599917441607,0.00017568499970366247,0.00022301900025922805,0.00023150900233304128,0.0001743279972288292,0.00017655400006333366,0.00016056599997682497,0.00015348799934145063,0.00015126599828363396,0.00015559699750156142,0.00014860400187899359,0.00014158900012262166,0.0001394870014337357,0.00017707499864627607,0.00030881099883117713,0.00020904900156892836,0.00017499599925940856,0.00019609200171544217,0.000198961999558378,0.00019520500063663349,0.0001728690003801603,0.000165789999300614,0.00014815800022915937,0.00025899500178638846,0.000155645000631921,0.00014455099881161004,0.0001426939998054877,0.00014171899965731427,0.00023087299996404909,0.00021824700161232613,0.00022148300195112824,0.00027833800049847923,0.00025159100187011063,0.00020172199947410263,0.0001829329994507134,0.00017830199794843793,0.00019917600002372637,0.00018221899881609716,0.00019611599782365374,0.00016171999959624372,0.00014917400039848872,0.000146874001075048,0.0003877199997077696,0.0001710540018393658,0.00019118999989586882,0.0001654129991948139,0.0001708150011836551,0.00021463899975060485,0.0001947799974004738,0.00016988599963951856,0.00024311199740623124,0.00023809500271454453,0.00020522500199149363,0.00021469399871421047,0.0002564690003055148,0.00018809899847838096,0.00018013600129052065,0.000215662999835331,0.00022337799964589067,0.0002011520009546075,0.00018185999942943454,0.00016560599760850891,0.00020403699818416499,0.00020917500296491198,0.00017572499928064644,0.00018158899911213666,0.0001952759994310327,0.00018478399942978285,0.00017889199807541445,0.0001952519996848423,0.00015313599942601286,0.0001664320006966591,0.00013001299885218032,0.0002763740012596827,0.00015776899817865342,0.00015138999879127368,0.0001637739987927489,0.00017408799976692535,0.00015202800204860978,0.00015326200082199648,0.0001241610007127747,0.00012093699842807837,0.0001521279991720803,0.00014793000082136132,0.00014549299885402434,0.00012728100045933388,0.00011822000305983238,0.00012000900096609257,0.00011906700092367828,0.00011876200005644932,0.00015788300152053125,0.0002804569994623307,0.00016339200010406785,0.00017646099877310917,0.00015157400048337877,0.00015643599908798933,0.00020266699721105397,0.0002218529989477247,0.00017348599794786423,0.00014986099995439872,0.00017622499944991432,0.00015300999803002924,0.00023850499928812496,0.0002128589985659346,0.00017338100224151276,0.00012716100172838196,0.00015861000065342523,0.00016141500236699358,0.00012395399971865118,0.00012179000259493478,0.00013877699893782847,0.00013424400094663724,0.0001316720008617267,0.0001609030005056411,0.00013692100037587807,0.00014801599900238216,0.00016971399963949807,0.00021481700241565704,0.00019312299991725013,0.00018759200247586705,0.00016578299982938915,0.00014128899783827364,0.00013366700295591727,0.00013589300215244293,0.00014046400247025304,0.00017526300143799745,0.0001595070025359746,0.00015061999874887988,0.0001446169990231283,0.00026366300153313205,0.0001430910015187692,0.00021914299941272475,0.00018839499898604117,0.00017332800052827224,0.00013960099749965593,0.0001819709978008177,0.0001684949966147542,0.0001780380007403437,0.0001658080000197515,0.00013741500151809305,0.0001361579998047091,0.00014828100029262714,0.00013683300130651332,0.00013077100084046833,0.0001290990003326442,0.00013481999849318527,0.00013303599916980602,0.00013007300003664568,0.00013274299999466166,0.000129103002109332,0.0001326669989794027,0.00013733600280829705,0.00012986400179215707,0.00012819499897887,0.00015545800124527887,0.00013369899897952564,0.00013366100029088557,0.00014247500075725839,0.0001394179998897016,0.00013601099999505095,0.00013325200052349828,0.0001319210023211781,0.0001358660010737367,0.0001311109990638215,0.00013178099834476598,0.0001347230027022306,0.0001360930000373628,0.00013667800158145837,0.0001329119986621663,0.00014693200137116946,0.00017720400137477554,0.00018428199837217107,0.00018001399803324603,0.0001884600023913663,0.00016209399836952798,0.00016907199824345298,0.00016020100156310946,0.0001759450024110265,0.00015862299915170297,0.0001802240003598854,0.00018175100194639526,0.00016956499894149601,0.00018050400103675202,0.0001536370000394527,0.00013740700160269625,0.0001340100025117863,0.00013300399950821884,0.00013601300088339485,0.00013220800246926956,0.0001313070024480112,0.00013055200179223903,0.00015666399849578738,0.00013996799680171534,0.00013860300168744288,0.00014078999811317772,0.0001378290035063401,0.00013327799752005376,0.00013345600018510595,0.0001592190019437112,0.00014583699885406531,0.0001516659976914525,0.0001503470011812169,0.00015277100101229735,0.00014333099898067303,0.0001407470008416567,0.00013805900016450323,0.00013217599916970357,0.00013214299906394444,0.00019071999849984422,0.00019859999883919954,0.00019242999769630842,0.00017859000217868015,0.00016001699987100437,0.00014405099864234217,0.00014070999895920977,0.00013381200187723152,0.00013823200060869567,0.0001335179986199364,0.00013155800115782768,0.0001339900009043049,0.0001315239969699178,0.00013566900088335387,0.0001482660009060055,0.00015953600086504593,0.0001706180009932723,0.00014331700003822334,0.00013395600035437383,0.00016426799993496388,0.0001584249985171482,0.00016078299813671038,0.00016485100059071556,0.0001655790001677815,0.00015093199908733368,0.0001557300020067487,0.00015598599929944612,0.00018537299911258742,0.00016099699860205874,0.00015531600001850165,0.00015467000048374757,0.00014753299910807982,0.00014698599989060313,0.0001513600000180304,0.0001544519982417114,0.00016359500295948237,0.0001553960028104484,0.00015458100097021088,0.00014749700130778365,0.0001582570002938155,0.0001538279975648038,0.00018925600306829438,0.0001949639990925789,0.0001982060020964127,0.0001680650020716712,0.0001645519987505395,0.00016763200255809352,0.00017581200154381804,0.00015787499796715565,0.0001563560035720002,0.00021701700097764842,0.00018170999828726053,0.0001799929996195715,0.00019126600091112778,0.00019633899864857085,0.0001720120017125737,0.00017776999811758287,0.00017755099906935357,0.0001962729984370526,0.00017396100156474859,0.00017566699898452498,0.00017099800243158825,0.00016818600124679506,0.0001732319979055319,0.00015481399896088988,0.00015065399929881096,0.00014888300211168826,0.00015634100054739974,0.00015740299932076596,0.00015213900041999295,0.00016430600226158276,0.00015760300084366463,0.00017490300160716288,0.00017924300118465908,0.00015902000086498447,0.0001588890008861199,0.00015647899999748915,0.00016610300008323975,0.0001606149999133777,0.0001916149994940497,0.0001971259989659302,0.00018302299940842204,0.0001912420011649374,0.0001604450008017011,0.00016475200027343817,0.00015460099893971346,0.00015293099932023324,0.0001532220012450125,0.00015573899872833863,0.00015907799752312712,0.00015022000297904015,0.00015766399883432314,0.0001655409978411626,0.0001590470019436907,0.0001561800017952919,0.00015512899699388072,0.00014980899868533015,0.00022576099945581518,0.0002043999993475154,0.0002021450018219184,0.0002107419968524482,0.0002089970002998598,0.00041661399882286787,0.00028556799952639267,0.00024695799947949126,0.00018189700131188147,0.0001883409968286287,0.0001757360005285591,0.00018090999947162345,0.00017295599900535308,0.00017224399925908074,0.0001712220000626985,0.00017176799883600324,0.0001736189988150727,0.00017022799875121564,0.00021164399731787853,0.00020396499894559383,0.00018855099915526807,0.00018937299682875164,0.00017381500219926238,0.00011447100041550584,0.00011333199654472992,0.00011288300083833747,0.00016982699889922515,0.00012518999938038178,0.00011839400031021796,0.0001346989993180614,0.00015299200094887055,0.00013070799832348712,0.00012206399696879089,0.00011842900130432099,0.00011712699779309332,0.00012374899961287156,0.0001783640000212472,0.00013257200043881312,0.0001540160010335967,0.00014736199955223128,0.00012170999980298802,0.0001247870022780262,0.0001274960013688542,0.0001289510000788141,0.00011469899982330389,0.00011367000115569681,0.0001340609996987041,0.00011582100341911428,0.00015062600141391158,0.00014093200297793373,0.0001125899980252143,0.00011189200085937046,0.00011595899923122488,0.00011533799988683313,0.00016248999963863753,0.0001577319999341853,0.00014980299965827726,0.00015103700206964277,0.00017825100076152012,0.0001617740017536562,0.00014285999714047648,0.0001451559983252082,0.00015118200099095702,0.00018160699983127415,0.00017805899915401824,0.00015362999693024904,0.00014317399836727418,0.00011943900244659744,0.0001464140004827641,0.00011510399781400338,0.00011431500024627894,0.00012355500075500458,0.00012918300126329996,0.00012746200081892312,0.0001400199980707839,0.00014234699847293086,0.00014459000158240087,0.00014356999963638373,0.00014247999934013933,0.00013342999955057167,0.00012362900088191964,0.00017019399820128456,0.00019059099940932356,0.00015535599959548563,0.00033803400219767354,0.00020419499924173579,0.00021811099941260181,0.00017255199782084674,0.00021357500008889474,0.0001834680006140843,0.0001949380020960234,0.00017569099873071536,0.00015026099936221726,0.000248874999670079,0.0002253680031572003,0.00016722799773560837,0.00015924399849609472,0.00016416799917351454,0.00016428600065410137,0.0002059520011243876,0.00020352199862827547,0.00021566400027950294,0.00021475600078701973,0.0002356649965804536,0.00018291800006409176,0.0001732359996822197,0.00016675400183885358,0.00016120999862323515,0.0001855020018410869,0.00015687600171077065,0.00018423299843561836,0.00017604999811737798,0.00017232399841304868,0.00014604600073653273,0.0001409739998052828,0.0001444000008632429,0.00017312999989371747,0.00016499499906785786,0.00021686699983547442,0.00017647500135353766,0.00017489099991507828,0.00015058500139275566,0.00014442399697145447,0.00014383199959411286,0.00015226799951051362,0.00014379999993252568,0.00014193799870554358,0.00014120000196271576,0.00014123499931883998,0.0001341010029136669,0.00013567899804911576,0.00014084400027059019,0.00013399299859884195,0.00015162400086410344,0.0001422790010110475,0.00013587499779532664,0.00013840600149706006,0.00013513900194084272,0.00013475100058712997,0.0001345509990642313,0.00013423600103124045,0.0001367860022583045,0.00014018900037626736,0.00013959299758425914,0.00013579799997387454,0.00013566399866249412,0.00013556999692809768,0.00027282100199954584,0.00015384300058940426,0.0001460719977330882,0.0001402119996782858,0.00013941299766884185,0.00013912899885326624,0.00015721700037829578,0.00015763400006107986,0.00015435200111824088,0.00014817199917160906,0.00015279199942597188,0.0001402689995302353,0.00014054300118004903,0.0001442540014977567,0.00014053999984753318,0.00014649200238636695,0.0001509690009697806,0.0001545670020277612,0.00015242699737427756,0.00018366700169281103,0.00018139899839297868,0.00019931199858547188,0.00019739699928322807,0.00020203900203341618,0.00018794900097418576,0.00017373399896314368,0.00014728300084243529,0.00019177799913450144,0.0001619200011191424,0.00019434500063653104,0.00018530799934524111,0.00019087100008619018,0.00018845100203179754,0.0001898199989227578,0.00019737299953703769,0.0001953249993675854,0.00019798199718934484,0.00018764300330076367,0.00017940900215762667,0.00017464700067648664,0.00016233299902523868,0.00015630100097041577,0.00016186200082302094,0.00016818799849716015,0.00016094900274765678,0.00015081599849509075,0.00014625499898102134,0.00014729000031366013,0.00015684000027249567,0.00011963499855482951,0.00011765300223487429,0.00016720900021027774,0.00014131200077827089,0.00012463200255297124,0.00012593700012075715,0.00012675600009970367,0.0001283940000575967,0.0001305980003962759,0.00018961199748446234,0.0001951669983100146,0.00014203599857864901,0.0001307480015384499,0.00012972400145372376,0.00013071899957139976,0.00013108400162309408,0.00012998099919059314,0.00012961600077687763,0.00012920299923280254,0.00013483599832397886,0.0001347760007774923,0.0001366319993394427,0.0001392759986629244,0.00015302899919333868,0.00012547699952847324,0.00016044000221882015,0.00013969800056656823,0.00013391000175033696,0.00013287900219438598,0.00013124699762556702"
     ]
    },
    {
     "name": "stdout",
     "output_type": "stream",
     "text": [
      ",0.00018002899741986766,0.0001640089976717718,0.00016846200014697388,0.00016324399985023774,0.00015436799731105566,0.00017290400137426332,0.00015306500063161366,0.0001281830009247642,0.00012002400035271421,0.00012022599912597798,0.0001206640008604154,0.00012715899720205925,0.00011789099880843423,0.00011672400069073774,0.00011623799946391955,0.00011580899808905087,0.00011719000031007454,0.00012795899965567514,0.0001185649998660665,0.00011695399734890088,0.00012617999891517684,0.0001336069981334731,0.00012335300198174082,0.00011773299775086343,0.00011665800047921948,0.00011633699978119694,0.00011711000115610659,0.00011521299893502146,0.00015415300003951415,0.00012909799988847226,0.0001259500022570137,0.00012417900143191218,0.00013003799904254265,0.00019925399828935042,0.00018041699877358042,0.0001650810008868575,0.00018771400209516287,0.00019519199850037694,0.0001925329997902736,0.00021242400180199184,0.00020743399727507494,0.00016229199900408275,0.000205174001166597,0.00018499900033930317,0.0001855549999163486,0.0002042600026470609,0.00017087699961848557,0.0002234070016129408,0.00017732299966155551,0.00016800800221972167,0.00017934400239028037,0.00017682100224192254,0.00014824500249233097,0.000137495000672061,0.00014410700168809853,0.00014590000137104653,0.00016085999959614128,0.00013970500003779307,0.00014007700156071223,0.00015064700346556492,0.0001356450011371635,0.00013873799980501644,0.00013772300007985905,0.00014769400149816647,0.00013485800081980415,0.0001330800005234778,0.0001429350013495423,0.00013617500007967465,0.00021541100068134256,0.0008883439986675512,0.0003629849998105783,0.0002493900028639473,0.00023994500224944204,0.0002175940026063472,0.00023350199990090914,0.0009088869992410764,0.00018529799854150042,0.00016643399794702418,0.00016946300092968158,0.0001595209978404455,0.0001590369975019712,0.0001680489986028988,0.00015718000213382766,0.00016284899902530015,0.00015654000162612647,IREE prediction ('llvm-ir' backend, 'llvm' driver):\n",
      "[0.956209958 0.0185950231 91.8950424 3.40785265 3.93363143e-06 1.75917447 1.73989463 2.99628414e-06 0.22320126 1.49807629e-05]\n",
      "\n",
      "\n",
      "TensorFlow prediction:\n",
      "[0.956208467 0.0185949933 91.8950729 3.40785193 3.93361734e-06 1.75917 1.73989081 2.99627914e-06 0.223200902 1.49807111e-05]\n",
      "IREE prediction ('llvm-ir' backend, 'llvm' driver):\n",
      "[0.956209958 0.0185950231 91.8950424 3.40785265 3.93363143e-06 1.75917447 1.73989463 2.99628414e-06 0.22320126 1.49807629e-05]\n",
      "\n",
      "\n",
      "TensorFlow prediction:\n",
      "[0.956208467 0.0185949933 91.8950729 3.40785193 3.93361734e-06 1.75917 1.73989081 2.99627914e-06 0.223200902 1.49807111e-05]\n"
     ]
    }
   ],
   "source": [
    "#@title Execute the compiled module and compare the results with TensorFlow\n",
    "\n",
    "print(\"tf times:\")\n",
    "for _ in range(1000):\n",
    "    start = timer()\n",
    "    tf_prediction = model(sample_image_batch, training=False)\n",
    "    end = timer()\n",
    "    print(end - start, end = ',')\n",
    "\n",
    "# Invoke the 'predict' function with a single image as an argument\\n\",\n",
    "print(\"\\niree times:\")\n",
    "for _ in range(1000):\n",
    "    start = timer()\n",
    "    iree_prediction = ctx.modules.module.predict(sample_image_batch)\n",
    "    end = timer()\n",
    "    print(end - start, end = ',')\n",
    "\n",
    "tf.print(\"IREE prediction ('%s' backend, '%s' driver):\" % (backend_name, driver_name))\n",
    "tf.print(tf.convert_to_tensor(iree_prediction[0]) * 100.0, summarize=100)\n",
    "tf.print(\"\\n\")\n",
    "tf.print(\"TensorFlow prediction:\")\n",
    "tf.print(tf_prediction[0] * 100.0, summarize=100)\n",
    "\n",
    "\n",
    "# Invoke the 'predict' function with a single image as an argument\n",
    "iree_prediction = ctx.modules.module.predict(sample_image_batch)\n",
    "\n",
    "tf.print(\"IREE prediction ('%s' backend, '%s' driver):\" % (backend_name, driver_name))\n",
    "tf.print(tf.convert_to_tensor(iree_prediction[0]) * 100.0, summarize=100)\n",
    "tf.print(\"\\n\")\n",
    "tf.print(\"TensorFlow prediction:\")\n",
    "tf.print(tf_prediction[0] * 100.0, summarize=100)"
   ]
  },
  {
   "cell_type": "code",
   "execution_count": null,
   "metadata": {},
   "outputs": [],
   "source": []
  },
  {
   "cell_type": "code",
   "execution_count": null,
   "metadata": {},
   "outputs": [],
   "source": []
  },
  {
   "cell_type": "code",
   "execution_count": null,
   "metadata": {},
   "outputs": [],
   "source": []
  },
  {
   "cell_type": "code",
   "execution_count": null,
   "metadata": {},
   "outputs": [],
   "source": []
  },
  {
   "cell_type": "code",
   "execution_count": null,
   "metadata": {},
   "outputs": [],
   "source": []
  },
  {
   "cell_type": "code",
   "execution_count": null,
   "metadata": {},
   "outputs": [],
   "source": []
  },
  {
   "cell_type": "code",
   "execution_count": null,
   "metadata": {},
   "outputs": [],
   "source": []
  }
 ],
 "metadata": {
  "colab": {
   "collapsed_sections": [
    "PZtRtMMUZHJS"
   ],
   "name": "mnist_tensorflow.ipynb",
   "provenance": []
  },
  "kernelspec": {
   "display_name": "Python 3",
   "language": "python",
   "name": "python3"
  },
  "language_info": {
   "codemirror_mode": {
    "name": "ipython",
    "version": 3
   },
   "file_extension": ".py",
   "mimetype": "text/x-python",
   "name": "python",
   "nbconvert_exporter": "python",
   "pygments_lexer": "ipython3",
   "version": "3.8.3"
  }
 },
 "nbformat": 4,
 "nbformat_minor": 1
}
